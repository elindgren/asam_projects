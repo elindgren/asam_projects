{
 "cells": [
  {
   "cell_type": "markdown",
   "metadata": {},
   "source": [
    "# Project 2a: Alloy cluster expansions\n",
    "\n",
    "In this project you will construct an alloy cluster expansion model for the Ag-Pd alloy.\n",
    "Note that it is not required for you to understand all the details of the cluster-expansion formalism in order to solve the project.\n",
    "Rather you will be using an external package for computing the fit/sensing matrix and compiling the target vector.\n",
    "\n",
    "**You should hand in a report, via Canvas, maximum 6 pages (excluding references). \n",
    "Do not attach any appendices. In the report you should present your data, models and the final results.\n",
    "Do not forget to visualize your data and results.\n",
    "It is important that you discuss your findings and reflect on the results.\n",
    "In addition you need to hand in your Python code.\n",
    "The code itself will not be graded, but it should run without errors and upon inspection reproduce the main results you present in the report.\n",
    "Emphasis will be put on your ability to use appropriate terminology to describe and discuss the employed statistical methodologies and results.**\n",
    "\n",
    "**<font color=red>DEADLINE: Nov 27, 23:59</font>**\n",
    "\n",
    "\n",
    "## Alloys\n",
    "\n",
    "Alloys are multicomponent systems, in which several species are mixed with each other on at least one sublattice.\n",
    "Examples include metallic alloys such as steel or bronze as well as semiconductor alloys such as gallium indium nitride (blue lasers).\n",
    "In order to study the energetics of such systems on the atomistic scale one often resorts to density functional theory (DFT) calculations, which can provide the energy of a given atomistic structure with high accuracy.\n",
    "The mixing energy per atom of a structure is defined as\n",
    "\\begin{equation}\n",
    "\\large\n",
    "    E_\\text{mix} = \\frac{E_\\text{structure} - n_\\text{Ag} E_\\text{Ag} - n_\\text{Pd} E_\\text{Pd}}{n_\\text{Ag} + n_\\text{Pd}}\n",
    "\\end{equation}\n",
    "where $E_\\text{structure}$ is the total energy of the structure, $n_\\text{Ag}$ number of Ag atoms in the structure and $E_\\text{Ag}$ the energy of pure Ag.\n",
    "Working with the mixing energy is often convient as it is the relevant energy when considering e.g. phase stability of alloys.\n",
    "Below a few different structures (configurations) are displayed.\n",
    "\n",
    "<img src=\"images/configurations.png\" alt=\"Drawing\" style=\"width: 750px;\"/>\n",
    "\n",
    "\n",
    "\n",
    "## The configurational space problem\n",
    "If we consider a binary system (A-B) and a lattice consisting of 100 atoms, this yields $2^{100}\\approx 10^{30}$ ways of occupying the lattice.\n",
    "While many of the structures will be duplicates when considering translation and rotational invariance we are still left with a huge number of configurations that would need to be considered, e.g., when calculating thermodynamic averages or conducting ground state searches.\n",
    "Calculating the energy of multiple structures with DFT is computationally very expensive and thus to solve this configurational space problem one often turns to building atomistic models based on DFT.\n",
    "So-called alloy cluster expansions are the most commonly employed technique in this context.\n",
    "\n",
    "\n",
    "## Cluster expansions\n",
    "The alloy cluster expansion model is based on an ideal lattice.\n",
    "This lattice can be occupied by various atomic species (Ag and Pd in our case).\n",
    "In this approach the energy of the atomic structure is modeled as a sum over the average number of times a particular cluster occurs multiplied with corresponding effective cluster interactions (ECIs).\n",
    "Formally\n",
    "\\begin{equation}\n",
    "    \\large\n",
    "    E_\\text{mix} = J_0 + \\sum _\\alpha N_\\alpha J_\\alpha,\n",
    "\\end{equation}\n",
    "where $\\alpha$ refers to various clusters such as nearest neighbor pairs, next nearest neighbor pairs, triplets etc, $N_\\alpha$ refers to the number of such clusters for the present structure per atom and $J_\\alpha$ is the corresponding effective cluster interaction (ECI) for cluster $\\alpha$.\n",
    "In this project, it is of no concern how the extraction of identical and unique clusters using crystal symmetries is done.\n",
    "\n",
    "<img src=\"images/clusters_v1.png\" alt=\"Drawing\" style=\"width: 650px;\"/>\n",
    "\n",
    "Instead we will focus on how to determine the unknown parameters (ECIs) $J_\\alpha$, and how to choose which type of clusters to include in the model, i.e. the size and structure of the parameter space.\n",
    "If the clusters $\\alpha$ are enumerated, the equation above can be formulated as a dot product by defining $\\boldsymbol{x}=[1, N_1, N_2, \\ldots]$ and $\\boldsymbol{J}=[J_0, J_1, J_2, \\ldots]$ as $E_\\text{mix} = \\boldsymbol{x} \\boldsymbol{J}$.\n",
    "Here, $\\boldsymbol{x}$ is often refered to as the cluster vector of the given configuration.\n",
    "\n",
    "If the mixing energy $E_\\text{mix}$ is calculated using DFT for a set of configurations, then the problem of finding the ECIs $\\boldsymbol{J}$ can be solved, e.g., using ordinary least-squares (OLS)\n",
    "\\begin{equation}\n",
    "    \\large\n",
    "    \\boldsymbol{J}_\\text{opt} = \\min_\\boldsymbol{J} || \\boldsymbol{X} \\boldsymbol{J} - \\boldsymbol{E}_\\text{mix} ||_2 ^2,\n",
    "\\end{equation}\n",
    "where $\\boldsymbol{E}_\\text{mix}$ is a vector containing the mixing energies for all structures and $\\boldsymbol{X}$ a matrix, each row of which corresponds to a cluster vector of one of the structures.\n",
    "\n",
    "\n",
    "## The linear problem\n",
    "While OLS is the simplest method for finding ECIs, it has a tendency for overfitting.\n",
    "Linear regression with regularization such as ridge or LASSO are therefore favorable alternatives.\n",
    "A common issue in finding the ECIs is to select an approriate number of features (clusters) to include in the model.\n",
    "Features in our problem correspond to clusters with different interatomic distances and of different order (pairs, triplets etc; see above).\n",
    "Including too few (many) can lead to underfitting (overfitting).\n",
    "\n",
    "In this project you will construct cluster expansion models using linear regression methods such as Lasso and ARDR.\n",
    "You will use cross-validation (CV) but also information criteria such as AIC and BIC in order to evaluate how many features are reasonable to include in your model.\n",
    "For more information and details about these methods and metrics, consult the section \"Additional Information\" below.\n",
    "Lastly, you will see how Bayesian parameter estimation of the ECIs can be used to analyze results obtained via a cluster expansion.\n",
    "\n",
    "\n",
    "\n",
    "### Cross-validation\n",
    "You may freely choose a suitable cross-valdation method to use for the following tasks.\n",
    "K-fold is commonly used and available through `sklearn` (https://scikit-learn.org/stable/modules/generated/sklearn.model_selection.KFold.html).\n",
    "Ten folds might be a good starting point to try out.\n",
    "\n",
    "\n",
    "### Information criteria\n",
    "The Bayesian information criteria (BIC) is defined as\n",
    "\\begin{equation}\n",
    "\\text{BIC} = 2 \\log(L_*) - N_p \\log(N_d)\n",
    "\\end{equation}\n",
    "where $L_*$ is the maximized likelihood, $N_p$ the number of parameters, and $N_d$ number of data points.     \n",
    "The energies (or data) can be modeled through\n",
    "Here we assume the errors, $\\epsilon$, are normal distributed with zero mean and variance $\\sigma^2$.\n",
    "\\begin{equation}\n",
    "\\boldsymbol{E} = \\boldsymbol{x} \\boldsymbol{J} + \\epsilon , \\quad \\epsilon \\sim \\mathcal{N}(\\mu=0, \\sigma^2) \\\\\n",
    "\\end{equation}\n",
    "Therefore the likelihood, $P(D|\\boldsymbol{J}, \\sigma)$, can be defined as\n",
    "\\begin{equation}\n",
    "L = P(D|\\boldsymbol{J}, \\sigma) = \\frac{1}{(2\\pi \\sigma^2)^{N_d/2}}\\exp{(-||\\boldsymbol{X} \\boldsymbol{J}-\\boldsymbol{E} ||^2 / 2\\sigma^2)}\n",
    "\\end{equation}\n",
    "The ECIs, $\\boldsymbol{J}$, you will obtain from linear regression algorithms (LASSO, etc), and $\\sigma$ can be found from setting $\\frac{\\mathrm{d} L }{\\mathrm{d} \\sigma} = 0$. This is left as an exercise to the reader but the final expression for BIC becomes\n",
    "\\begin{equation}\n",
    "\\text{BIC} = -N_d \\log(\\text{MSE}) - N_p \\log(N_d) + \\text{const}\n",
    "\\end{equation}\n",
    "where the constant term, $\\text{const}$, is irrelevant and $\\text{MSE}$ is the mean squared error, defined as \n",
    "\\begin{equation}\n",
    "\\text{MSE} = \\frac{1}{N_d}||\\boldsymbol{X} \\boldsymbol{J}-\\boldsymbol{E} ||^2\n",
    "\\end{equation}\n",
    "\n",
    "### sklearn\n",
    "Regression algorithms such as Lasso, ridge, automatic relevance detection (ARD) and many more are available via [`sklearn`](https://scikit-learn.org/).\n",
    "\n",
    "*Note: Since we are including the constant term in our cluster vectors (corresponding to $J_0$ and implying that the first element is always 1), we need to set `fit_intercept=False` when using the linear models from sklearn.*"
   ]
  },
  {
   "cell_type": "markdown",
   "metadata": {},
   "source": [
    "## Additional information\n",
    "Additional information in regards to cluster expansions and how these can be trained and used can be found in the  following papers:\n",
    "\n",
    "* [*Robust data-driven approach for predicting the configurational energy of high entropy alloys*](https://doi.org/10.1016/j.matdes.2019.108247) (doi:10.1016/j.matdes.2019.108247)\n",
    "* [*ICET – A Python Library for Constructing and Sampling Alloy Cluster Expansions*](https://doi.org/10.1002/adts.201900015) (doi:10.1002/adts.201900015)"
   ]
  },
  {
   "cell_type": "markdown",
   "metadata": {},
   "source": [
    "## Setup\n",
    "\n",
    "In this project you will need to use the [`ase` package](https://wiki.fysik.dtu.dk/ase) package for reading and handling atomistic structures.\n",
    "We will also use the [`icet` package](https://icet.materialsmodeling.org/) (integrated cluster expansion toolkit) devloped here at Chalmers in order to construct cluster vectors.\n",
    "Both of these packages are pre-installed on the jupyterhub instance for the course."
   ]
  },
  {
   "cell_type": "code",
   "execution_count": 1,
   "metadata": {},
   "outputs": [],
   "source": [
    "# Standard imports\n",
    "import pickle\n",
    "import os\n",
    "\n",
    "import ase\n",
    "import icet\n",
    "import numpy as np\n",
    "import matplotlib.pyplot as plt\n",
    "import sklearn.linear_model as skl\n",
    "from sklearn.model_selection import KFold"
   ]
  },
  {
   "cell_type": "markdown",
   "metadata": {},
   "source": [
    "# Task 1: Collect and plot the data (0.5p)\n",
    "Start by reading and collecting the atomic structures and their corresponding properties (such as mixing energy) from the [ASE database](https://wiki.fysik.dtu.dk/ase/ase/db/db.html) located in `structures/reference_data.db`.\n",
    "\n",
    "The structures are available as [ASE Atoms](https://wiki.fysik.dtu.dk/ase/ase/atoms.html) objects which have attributes such as\n",
    "* positions\n",
    "* cell\n",
    "* numbers (atomic numbers)\n",
    "* symbols (atomic symbols)\n",
    "\n",
    "This database can for example be read by the following code snippet"
   ]
  },
  {
   "cell_type": "code",
   "execution_count": 2,
   "metadata": {},
   "outputs": [],
   "source": [
    "from ase.db import connect\n",
    "\n",
    "db = connect('structures/reference_data.db')\n",
    "for row in db.select():\n",
    "    atoms = row.toatoms()\n",
    "    E_mix = row.mixing_energy\n",
    "    #print(row.symbols, E_mix)"
   ]
  },
  {
   "cell_type": "markdown",
   "metadata": {},
   "source": [
    "Here each row corresponds to an atomic structure with an attached mixing energy in units of meV per atom.      "
   ]
  },
  {
   "cell_type": "markdown",
   "metadata": {},
   "source": [
    "**Task:** \n",
    "* Read the database and collect the atomic structures and energies.\n",
    "* Plot the mixing energy as a function of Pd concentration"
   ]
  },
  {
   "cell_type": "code",
   "execution_count": 3,
   "metadata": {},
   "outputs": [
    {
     "name": "stdout",
     "output_type": "stream",
     "text": [
      "<generator object Database.select at 0x7f0e4f63bd50>\n"
     ]
    },
    {
     "data": {
      "text/plain": [
       "<matplotlib.collections.PathCollection at 0x7f0e4ffb9910>"
      ]
     },
     "execution_count": 3,
     "metadata": {},
     "output_type": "execute_result"
    },
    {
     "data": {
      "image/png": "[encoded data removed]",
      "text/plain": [
       "<Figure size 432x288 with 1 Axes>"
      ]
     },
     "metadata": {
      "needs_background": "light"
     },
     "output_type": "display_data"
    }
   ],
   "source": [
    "def get_concentration(row_symbols, atoms):\n",
    "    return np.count_nonzero(np.array(row_symbols) == 'Pd')/(atoms.get_volume())#/len(row_symbols)\n",
    "\n",
    "print(db.select())\n",
    "concentration = []\n",
    "\n",
    "for row in db.select(): \n",
    "    atoms = row.toatoms()\n",
    "    cons = get_concentration(row.symbols, atoms)\n",
    "    E_mix = row.mixing_energy\n",
    "    concentration.append([cons,E_mix])\n",
    "    \n",
    "concentration = np.array(concentration)\n",
    "\n",
    "    \n",
    "fig,ax = plt.subplots()\n",
    "ax.scatter(concentration[:,0], concentration[:,1])"
   ]
  },
  {
   "cell_type": "markdown",
   "metadata": {},
   "source": [
    "## Task 2: Cutoff selection for a pair cluster-expansion  (5p)\n",
    "In this task you will construct cluster expansions based only on pairs.\n",
    "Your cluster expansion thus has a hyper-parameter, namely the pair cutoff, which needs to be determined.\n",
    "For this task you will use `icet` to construct cluster vectors.\n",
    "This can be done by first creating a [`ClusterSpace` object](https://icet.materialsmodeling.org/moduleref_icet/cluster_space.html) which requires a list of cutoffs."
   ]
  },
  {
   "cell_type": "code",
   "execution_count": 4,
   "metadata": {},
   "outputs": [
    {
     "name": "stdout",
     "output_type": "stream",
     "text": [
      "(9,)\n"
     ]
    }
   ],
   "source": [
    "from icet import ClusterSpace\n",
    "\n",
    "# setup CS\n",
    "cutoffs = [6, 5, 4]\n",
    "prim = db.get(1).toatoms()\n",
    "cs = ClusterSpace(prim, cutoffs=cutoffs, chemical_symbols=['Ag', 'Pd'])\n",
    "\n",
    "# get cluster-vector for a given atoms object\n",
    "atoms = db.get(3).toatoms()\n",
    "x = cs.get_cluster_vector(atoms)\n",
    "print(x.shape)\n"
   ]
  },
  {
   "cell_type": "markdown",
   "metadata": {},
   "source": [
    "In the code above cutoffs of 6 Å for pairs, 5 Å for triplets and 4 Å for quadruplets are used.\n",
    "When only using pairs, as in this task, simply use `cutoffs=[r2]`, where `r2` is the pair-wise cutoff.\n",
    "\n",
    "**Tasks:**\n",
    "* For a range of pair cutoffs, use OLS to compute the training and CV errors and the information criteria AIC and BIC.\n",
    "* How would you based on these error/metrics select your pair cutoff, discuss and explain your reasoning.\n",
    "\n",
    "\n",
    "*Note: Since the constant term is included in our cluster vectors we need to set `fit_intercept=False` when using the linear models from sklearn.*"
   ]
  },
  {
   "cell_type": "code",
   "execution_count": 5,
   "metadata": {},
   "outputs": [],
   "source": [
    "def MSE(X,y, model):\n",
    "    y_pred = model.predict(X)\n",
    "    return np.mean((y_pred - y)**2)\n",
    "\n",
    "\n",
    "def get_aic_bic(X, y, model, nbr_non_zero_params):\n",
    "\n",
    "    n_samples = len(y)\n",
    "    n_parameters = nbr_non_zero_params\n",
    "    mse = MSE(X, y, model) # This assumes all models have Gaussian noise (Gaussian likelihood for ARDR)\n",
    "    RSS = mse*n_samples\n",
    "    sigma2 = RSS/n_samples # = MSE\n",
    "    \n",
    "    log_MLE = -0.5*RSS/sigma2 - 0.5*n_samples*np.log(sigma2) - 0.5*n_samples*np.log(2*np.pi) \n",
    "    \n",
    "#     aic = -(n_samples * np.log(mse) + 2 * n_parameters)\n",
    "#     bic = -(n_samples * np.log(mse) + n_parameters * np.log(n_samples))\n",
    "\n",
    "    aic = 2*log_MLE - 2*n_parameters\n",
    "    bic = 2*log_MLE - n_parameters*np.log(n_samples)\n",
    "    \n",
    "    return aic, bic\n",
    "\n",
    "\n",
    "def perform_cv(X, y, n_splits, regression_model, model_parameters=None):\n",
    "\n",
    "    kf = KFold(n_splits=n_splits)\n",
    "    \n",
    "    train_errors = np.zeros(n_splits)\n",
    "    test_errors = np.zeros(n_splits)\n",
    "    i = 0\n",
    "    for train_index, test_index in kf.split(X):\n",
    "        X_train, X_test = X[train_index], X[test_index]\n",
    "        y_train, y_test = y[train_index], y[test_index]\n",
    "        \n",
    "        model = regression_model(X_train, y_train, model_parameters=model_parameters)\n",
    "        train_errors[i] = MSE(X_train,y_train, model) # mean squared error\n",
    "        test_errors[i] = MSE(X_test,y_test, model)\n",
    "        i += 1\n",
    "    #data = {\"train_error\": train_errors.mean(), \"train_std\": train_errors.std(),\\\n",
    "    #        \"test_error\": test_errors.mean(),\"test_std\":test_errors.std()}\n",
    "    data = [train_errors.mean(), train_errors.std(), test_errors.mean(), test_errors.std()]\n",
    "    return data\n",
    "\n",
    "\n",
    "def OLS_fit(X,y, model_parameters=None):\n",
    "    model = skl.LinearRegression(fit_intercept=False).fit(X,y)\n",
    "    return model\n",
    "\n",
    "\n",
    "def LASSO_fit(X,y, model_parameters=None):\n",
    "    model = skl.Lasso(alpha=model_parameters, tol=1e-6, max_iter=1e5, fit_intercept=False).fit(X,y)\n",
    "    return model\n",
    "\n",
    "\n",
    "def ARDR_fit(X,y, model_parameters=None):\n",
    "    model = skl.ARDRegression(threshold_lambda=model_parameters, fit_intercept=False).fit(X,y)\n",
    "    return model\n",
    "\n",
    "\n",
    "def normalize_data(X,y):\n",
    "    y_tilde = (y-np.mean(y))/np.std(y)\n",
    "    red_X = X[:,1:] # Skip first column (bias)\n",
    "    X_tilde = np.ones(X.shape)\n",
    "    X_tilde[:, 1:] = (red_X-np.mean(red_X, axis=0))/np.std(red_X, axis=0)\n",
    "    return X_tilde, y_tilde\n",
    "\n",
    "def get_nbr_parameters(cutoffs):\n",
    "    db = connect('structures/reference_data.db')\n",
    "    prim = db.get(1).toatoms()\n",
    "    cs = ClusterSpace(prim, cutoffs=cutoffs, chemical_symbols=['Ag', 'Pd'])\n",
    "    atoms = db.get(1).toatoms()\n",
    "    nbr_parameters = cs.get_cluster_vector(atoms).shape[0]\n",
    "    \n",
    "    return cs, nbr_parameters\n",
    "\n",
    "def get_non_zero_params(model_params, parameter_tol):\n",
    "    non_zero_idx = np.where(np.abs(model_params) > parameter_tol)[0]\n",
    "    return non_zero_idx, model_params[non_zero_idx]\n",
    "    \n",
    "\n",
    "def cutoff_analysis(cutoffs, nbr_data, n_splits, regression_model, model_parameters=None, parameter_tol=1e-4):\n",
    "    cs, nbr_parameters = get_nbr_parameters(cutoffs)\n",
    "    \n",
    "    X = np.zeros((nbr_data,nbr_parameters)) # design matrix\n",
    "    y = np.zeros(nbr_data)\n",
    "    for j, row in enumerate(db.select()):\n",
    "        atoms = db.get(j+1).toatoms()\n",
    "        x = cs.get_cluster_vector(atoms)\n",
    "        X[j,:] = x\n",
    "        y[j] = row.mixing_energy\n",
    "    \n",
    "    X, y = normalize_data(X,y)\n",
    "    CV_score = perform_cv(X,y,n_splits, regression_model, model_parameters)\n",
    "    model = regression_model(X,y, model_parameters)\n",
    "    \n",
    "    non_zero_idx, non_zero_params = get_non_zero_params(model.coef_, parameter_tol)\n",
    "    nbr_non_zero_params = len(non_zero_idx)\n",
    "    \n",
    "    AIC, BIC = get_aic_bic(X,y, model, nbr_non_zero_params)\n",
    "    \n",
    "    return CV_score, nbr_non_zero_params, model.coef_, AIC, BIC"
   ]
  },
  {
   "cell_type": "code",
   "execution_count": 6,
   "metadata": {
    "scrolled": false
   },
   "outputs": [
    {
     "data": {
      "text/plain": [
       "<matplotlib.legend.Legend at 0x7f0e4f71b950>"
      ]
     },
     "execution_count": 6,
     "metadata": {},
     "output_type": "execute_result"
    },
    {
     "data": {
      "image/png": "[encoded data removed]",
      "text/plain": [
       "<Figure size 1152x432 with 3 Axes>"
      ]
     },
     "metadata": {
      "needs_background": "light"
     },
     "output_type": "display_data"
    }
   ],
   "source": [
    "# setup CS\n",
    "nbr_data = len(concentration[:,0])\n",
    "n_splits = 10\n",
    "nbr_cutoffs = 30\n",
    "min_cutoff = 1\n",
    "max_cutoff = 15\n",
    "\n",
    "CV_score = np.zeros((nbr_cutoffs,4))\n",
    "AIC = np.zeros(nbr_cutoffs)\n",
    "BIC = np.zeros(nbr_cutoffs)\n",
    "nbr_parameters = np.zeros(nbr_cutoffs, dtype = int)\n",
    "\n",
    "cutoffs = np.linspace(min_cutoff, max_cutoff, nbr_cutoffs)\n",
    "for i, cutoff in enumerate(cutoffs):\n",
    "    CV_score[i,:], nbr_parameters[i], _, AIC[i], BIC[i] = cutoff_analysis([cutoff], nbr_data, n_splits, OLS_fit, None)\n",
    "\n",
    "\n",
    "# Plot \n",
    "fig,ax = plt.subplots(1,2, figsize = (16,6))\n",
    "\n",
    "ax[0].errorbar(cutoffs, CV_score[:,0], yerr = CV_score[:,1], label = \"train\")\n",
    "ax[0].errorbar(cutoffs, CV_score[:,2], yerr = CV_score[:,3], label = \"test\")\n",
    "ax[0].legend()\n",
    "\n",
    "ax[1].plot(cutoffs,AIC, label = \"AIC\")\n",
    "ax[1].plot(cutoffs,BIC, label = \"BIC\")\n",
    "ax2 = ax[1].twinx()\n",
    "ax2.plot(cutoffs,nbr_parameters)\n",
    "ax[1].legend()"
   ]
  },
  {
   "cell_type": "code",
   "execution_count": 7,
   "metadata": {},
   "outputs": [
    {
     "name": "stdout",
     "output_type": "stream",
     "text": [
      "[ 1  1  1  1  2  2  2  3  3  4  5  5  6  7  8  9 10 12 13 14 16 16 18 20\n",
      " 22 25 26 28 32 33]\n"
     ]
    },
    {
     "data": {
      "text/plain": [
       "<matplotlib.legend.Legend at 0x7f0e46f56410>"
      ]
     },
     "execution_count": 7,
     "metadata": {},
     "output_type": "execute_result"
    },
    {
     "data": {
      "image/png": "[encoded data removed]",
      "text/plain": [
       "<Figure size 432x288 with 1 Axes>"
      ]
     },
     "metadata": {
      "needs_background": "light"
     },
     "output_type": "display_data"
    }
   ],
   "source": [
    "print(nbr_parameters)\n",
    "plt.plot(nbr_parameters,AIC, label = \"AIC\")\n",
    "plt.plot(nbr_parameters,BIC, label = \"BIC\")\n",
    "plt.legend()"
   ]
  },
  {
   "cell_type": "markdown",
   "metadata": {},
   "source": [
    "## Task 3:  Feature selection  (5p)\n",
    "An alternative approach to \"manually\" finding good values for the cutoffs is to simply select a long-ranged model and use feature-selection methods to automatically select which cluster interactions (parameters) are important and which are not.\n",
    "\n",
    "In this task you will try out the feature selection approach by using cutoffs `[13, 8, 6]`, and employing LASSO and ARDR. (Feel free to try out other feature selection algorithms like e.g. OMP, RFE)\n",
    "\n",
    "LASSO has a hyper-parameter `alpha` which determines the sparsity of the solution (number of nonzero parameters). ARDR has a hyper-parameter `threshold_lambda` which sets how many nonzero parameters appear in the solution.\n",
    "\n",
    "See the documentation here\n",
    "* https://scikit-learn.org/stable/modules/generated/sklearn.linear_model.Lasso.html\n",
    "* https://scikit-learn.org/stable/modules/generated/sklearn.linear_model.ARDRegression.html\n",
    "\n",
    "\n",
    "Scan a range of values for the respective hyper-parameter and evaluate CV-error and IC to determine a good value for the hyper-parameters. Records also how many nonzero parameters you obtained.\n",
    "\n",
    "**Tasks:**\n",
    "* Standardize the data. Why is this important for these two feature selection algorithms?\n",
    "* Compute the training and CV error for a range of values for the hyper-parameters.\n",
    "* Visualize the training error and CV-error as well as the AIC/BIC as function of number of non-zero parameters in the model.    \n",
    "\n",
    "**Discuss:**\n",
    "* How many features you think is suitable to include in a final model based on your analysis.\n",
    "* Does LASSO and ARDR select the same features?\n",
    "* Discuss the differences between LASSO and ARDR.\n",
    "\n",
    "*Note: Since the constant term is included in our cluster vectors we need to set `fit_intercept=False` when using the linear models from sklearn.*"
   ]
  },
  {
   "cell_type": "code",
   "execution_count": 8,
   "metadata": {},
   "outputs": [],
   "source": [
    "def scan_hyperparameter(regression_model, n_hyper, min_hyper, max_hyper, n_splits, nbr_data, parameter_tol, pickle_file):\n",
    "    if(os.path.isfile(pickle_file)):\n",
    "        print('Using pickled hyperparameter scan')\n",
    "        res = pickle.load( open( pickle_file, 'rb' ) )\n",
    "    else:\n",
    "        print('No hyperparameter scan file found. Running hyperparameter scan')\n",
    "        cutoffs = [13, 8, 6]   \n",
    "        CV_score = np.zeros((n_hyper,4))\n",
    "        AIC = np.zeros(n_hyper)\n",
    "        BIC = np.zeros(n_hyper)\n",
    "\n",
    "        _, nbr_parameters = get_nbr_parameters(cutoffs)\n",
    "        parameters = np.zeros((n_hyper, nbr_parameters))\n",
    "        nbr_non_zero_params = np.zeros(n_hyper, dtype = int)\n",
    "\n",
    "\n",
    "        hypers = np.logspace(min_hyper, max_hyper, n_hyper)\n",
    "\n",
    "        for i, hyper in enumerate(hypers):\n",
    "            CV_score[i,:], nbr_non_zero_params[i], parameters[i,:], AIC[i], BIC[i] = cutoff_analysis(cutoffs, nbr_data, n_splits, regression_model, hyper, parameter_tol)\n",
    "\n",
    "        res = (CV_score, nbr_non_zero_params, parameters, AIC, BIC, hypers)\n",
    "        \n",
    "        pickle.dump(res, open( pickle_file, \"wb\" ))\n",
    "    \n",
    "    CV_score, nbr_non_zero_params, parameters, AIC, BIC, hypers = res\n",
    "    \n",
    "    return CV_score, nbr_non_zero_params, parameters, AIC, BIC, hypers\n",
    " \n",
    "\n",
    "def plot_scan_hyperparameter(hypers, CV_score, nbr_non_zero_params, AIC, BIC, title):\n",
    "    # Plot \n",
    "    fig,ax = plt.subplots(1,2, figsize = (16,6))\n",
    "    \n",
    "    ax[0].errorbar(hypers, CV_score[:,0], yerr = CV_score[:,1], label = \"train\")\n",
    "    ax[0].errorbar(hypers, CV_score[:,2], yerr = CV_score[:,3], label = \"test\")\n",
    "    ax[0].legend()\n",
    "    ax[0].set_xscale('log')\n",
    "\n",
    "    ax[1].plot(hypers,AIC, label = \"AIC\")\n",
    "    ax[1].plot(hypers,BIC, label = \"BIC\")\n",
    "    ax[1].set_xscale('log')\n",
    "    ax2 = ax[1].twinx()\n",
    "    ax2.plot(hypers,nbr_non_zero_params, c='r')\n",
    "    ax[1].legend()\n",
    "    \n",
    "    fig.suptitle(title)"
   ]
  },
  {
   "cell_type": "code",
   "execution_count": 9,
   "metadata": {
    "scrolled": false
   },
   "outputs": [],
   "source": [
    "# Overall setup \n",
    "parameter_tol = 1e-4\n",
    "n_splits = 10\n",
    "nbr_data = len(concentration[:,0])"
   ]
  },
  {
   "cell_type": "code",
   "execution_count": null,
   "metadata": {},
   "outputs": [
    {
     "name": "stdout",
     "output_type": "stream",
     "text": [
      "No hyperparameter scan file found. Running hyperparameter scan\n"
     ]
    }
   ],
   "source": [
    "# LASSO - Scan alpha\n",
    "nbr_alpha = 50\n",
    "min_alpha = np.log10(1e-5)\n",
    "max_alpha = np.log10(0.2)\n",
    "\n",
    "CV_score_lasso, nbr_non_zero_params_lasso, model_parameters_lasso, AIC_lasso, BIC_lasso, alphas = scan_hyperparameter(LASSO_fit, nbr_alpha, min_alpha, max_alpha, n_splits, nbr_data, parameter_tol, f'scan_lasso_n={nbr_alpha}.p')\n",
    "plot_scan_hyperparameter(alphas, CV_score_lasso, nbr_non_zero_params_lasso, AIC_lasso, BIC_lasso, title='LASSO')"
   ]
  },
  {
   "cell_type": "code",
   "execution_count": null,
   "metadata": {},
   "outputs": [],
   "source": [
    "# ARDR - Scan lambda\n",
    "nbr_lambda = 50\n",
    "min_lambda = np.log10(1e2)\n",
    "max_lambda = np.log10(1e6)\n",
    "\n",
    "CV_score_ardr, nbr_non_zero_params_ardr, model_parameters_ardr, AIC_ardr, BIC_ardr, lambdas = scan_hyperparameter(ARDR_fit, nbr_lambda, min_lambda, max_lambda, n_splits, nbr_data, parameter_tol, f'scan_ardr_n={nbr_alpha}.p')\n",
    "plot_scan_hyperparameter(lambdas, CV_score_ardr, nbr_non_zero_params_ardr, AIC_ardr, BIC_ardr, title='ARDR')"
   ]
  },
  {
   "cell_type": "code",
   "execution_count": null,
   "metadata": {},
   "outputs": [],
   "source": [
    "opt_idx_lasso = np.argmax(BIC_lasso)\n",
    "opt_idx_ardr = np.argmax(BIC_ardr)\n",
    "alpha_optimum = alphas[opt_idx_lasso]\n",
    "lambda_optimum = lambdas[opt_idx_ardr]\n",
    "\n",
    "nz_idx_lasso, nz_val_lasso = get_non_zero_params(model_parameters_lasso[opt_idx_lasso,:], parameter_tol) \n",
    "nz_idx_ardr, nz_val_ardr = get_non_zero_params(model_parameters_ardr[opt_idx_ardr,:], parameter_tol) \n",
    "\n",
    "def get_matches(arr1, arr2):\n",
    "    # Get longest array\n",
    "    if(len(arr1) >= len(arr2)):\n",
    "        big = arr1\n",
    "        small = arr2\n",
    "    else:\n",
    "        big = arr2\n",
    "        small = arr1\n",
    "    matches = [1 if i in small else 0 for i in big]\n",
    "    match_per = np.sum(matches) / len(small) * 100\n",
    "    return matches, match_per\n",
    "\n",
    "matches, match_per = get_matches(nz_idx_lasso, nz_idx_ardr)\n",
    "print(f'Feature match: {match_per:.2f}%')\n",
    "\n",
    "fig, ax = plt.subplots(1,2,figsize=(16,6))\n",
    "ax[0].plot(alphas, np.abs(model_parameters_lasso), c='b', alpha=0.2)\n",
    "ax[0].set_title('LASSO')\n",
    "ax[0].set_xlabel(r'$\\alpha$')\n",
    "ax[0].set_ylabel('Weight')\n",
    "ax[0].axhline(parameter_tol, c='k')\n",
    "ax[0].axvline(alpha_optimum, c='r')\n",
    "ax[0].set_xscale('log')\n",
    "ax[0].set_yscale('log')\n",
    "\n",
    "ax[1].plot(1/lambdas, np.abs(model_parameters_ardr), c='b', alpha=0.2)\n",
    "ax[1].set_ylabel('Weight')\n",
    "ax[1].set_title('ARDR')\n",
    "ax[1].set_xlabel(r'$1/\\lambda$')\n",
    "ax[1].axhline(parameter_tol, c='k')\n",
    "ax[1].axvline(1/lambda_optimum, c='r')\n",
    "ax[1].set_xscale('log')\n",
    "ax[1].set_yscale('log')"
   ]
  },
  {
   "cell_type": "code",
   "execution_count": null,
   "metadata": {},
   "outputs": [],
   "source": [
    "fig, ax = plt.subplots(figsize=(10,6))\n",
    "\n",
    "ax.bar(x=nz_idx_ardr, height=np.abs(nz_val_ardr), color='r',  alpha=0.7, linewidth=3, label='ARDR')\n",
    "ax.bar(x=nz_idx_lasso, height=np.abs(nz_val_lasso), color='b', alpha=0.3, linewidth=3, label='LASSO')\n",
    "ax.set_yscale('log')\n",
    "ax.legend(loc='best')"
   ]
  },
  {
   "cell_type": "markdown",
   "metadata": {},
   "source": [
    "## Task 4: Bayesian Cluster expansion   (7p)\n",
    "In this final task you will try a bayesian approach to constructing cluster expansions.     \n",
    "In this task use cutoffs `cutoffs=[12.0, 6.0]`.\n",
    "\n",
    "\n",
    "### Priors\n",
    "For this problem you can use a gaussian prior for the ECIs with a zero mean and variance $\\alpha ^2$. This can be defined as\n",
    "\\begin{equation}\n",
    "P(\\boldsymbol{J}) = \\frac{1}{(2\\pi \\alpha^2)^{N_p/2}}\\exp{(-||\\boldsymbol{J}||^2 / 2\\alpha^2)}\n",
    "\\end{equation}\n",
    "where $N_p$ is the number of ECIs (length of vector $\\boldsymbol{J}$).\n",
    "For the priors over $\\sigma$ and $\\alpha$ you can for example use inverse gamma distributions. The total prior $P(\\boldsymbol{J}, \\sigma, \\alpha)$  is then given by the product of all priors.\n",
    "\n",
    "### Posterior\n",
    "In this task you will generate cluster expansion models from the posterior probability distribution $P(\\boldsymbol{J}|D)$, where $D$ is the training data (cluster-vectors and energies). The posterior is defined as\n",
    "\\begin{equation}\n",
    "\\underbrace{P(\\boldsymbol{J}, \\sigma, \\alpha|D)}_\\text{posterior} = \\underbrace{P(D|\\boldsymbol{J}, \\sigma)}_\\text{likelihood} \\underbrace{P(\\boldsymbol{J}, \\sigma, \\alpha)}_\\text{prior}/P(D)\n",
    "\\end{equation}\n",
    "\n",
    "\n",
    "**Tasks:**\n",
    "* Define the (log) liklihood, (log) prior and (log) posterior functions.\n",
    "* Sample the posterior distribution using MCMC and generate about 100-1000 (uncorrelated) samples (models).\n",
    "* Visualize the ECIs for a MCMC chain.\n",
    "\n",
    "\n",
    "### The ground state\n",
    "\n",
    "The ground-state structure refers to the structure with the lowest energy for a given concentration.\n",
    "Macroscopic properties like thermal conductivity, heat-capacity etc can depend strongly on the particular ground-state configuration and it is therefore important to know the correct ground-state structure.\n",
    "\n",
    "In the database `structures/ground_states_candidates.db` you will find potential ground-state candidates for $c_{Pd}=0.667$. In this task you will assign each ground-state candidate a probability of being the actual ground-state.\n",
    "\n",
    "\n",
    "**Tasks:**\n",
    "* Use OLS to predict which structure is the ground-state and the corresponding ground-state energy.\n",
    "* Use the cluster-expansions samples (from MCMC) and compute the frequency of each candidate structure being the ground-state.\n",
    "* Plot the disitrubtion of the ground-state energy.\n",
    "* Compare the results from the previous two tasks with the OLS results and discuss.\n",
    "\n",
    "\n",
    "*Hints:*\n",
    "* `emcee` can be used for the MCMC sampling\n",
    "* You may need to use a long burn-in period\n",
    "* From previous tasks we expect $\\sigma$ to be roughly in the range 1-10meV/atom, and $\\alpha$ in roughly the range 5-50meV. "
   ]
  }
 ],
 "metadata": {
  "kernelspec": {
   "display_name": "Python 3",
   "language": "python",
   "name": "python3"
  },
  "language_info": {
   "codemirror_mode": {
    "name": "ipython",
    "version": 3
   },
   "file_extension": ".py",
   "mimetype": "text/x-python",
   "name": "python",
   "nbconvert_exporter": "python",
   "pygments_lexer": "ipython3",
   "version": "3.7.8"
  }
 },
 "nbformat": 4,
 "nbformat_minor": 4
}
