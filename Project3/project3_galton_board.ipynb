{
 "cells": [
  {
   "cell_type": "code",
   "execution_count": 2,
   "metadata": {},
   "outputs": [
    {
     "name": "stderr",
     "output_type": "stream",
     "text": [
      "/Users/kevinandersson/opt/miniconda3/envs/Physics-env/lib/python3.7/site-packages/tensorflow/python/framework/dtypes.py:526: FutureWarning: Passing (type, 1) or '1type' as a synonym of type is deprecated; in a future version of numpy, it will be understood as (type, (1,)) / '(1,)type'.\n",
      "  _np_qint8 = np.dtype([(\"qint8\", np.int8, 1)])\n",
      "/Users/kevinandersson/opt/miniconda3/envs/Physics-env/lib/python3.7/site-packages/tensorflow/python/framework/dtypes.py:527: FutureWarning: Passing (type, 1) or '1type' as a synonym of type is deprecated; in a future version of numpy, it will be understood as (type, (1,)) / '(1,)type'.\n",
      "  _np_quint8 = np.dtype([(\"quint8\", np.uint8, 1)])\n",
      "/Users/kevinandersson/opt/miniconda3/envs/Physics-env/lib/python3.7/site-packages/tensorflow/python/framework/dtypes.py:528: FutureWarning: Passing (type, 1) or '1type' as a synonym of type is deprecated; in a future version of numpy, it will be understood as (type, (1,)) / '(1,)type'.\n",
      "  _np_qint16 = np.dtype([(\"qint16\", np.int16, 1)])\n",
      "/Users/kevinandersson/opt/miniconda3/envs/Physics-env/lib/python3.7/site-packages/tensorflow/python/framework/dtypes.py:529: FutureWarning: Passing (type, 1) or '1type' as a synonym of type is deprecated; in a future version of numpy, it will be understood as (type, (1,)) / '(1,)type'.\n",
      "  _np_quint16 = np.dtype([(\"quint16\", np.uint16, 1)])\n",
      "/Users/kevinandersson/opt/miniconda3/envs/Physics-env/lib/python3.7/site-packages/tensorflow/python/framework/dtypes.py:530: FutureWarning: Passing (type, 1) or '1type' as a synonym of type is deprecated; in a future version of numpy, it will be understood as (type, (1,)) / '(1,)type'.\n",
      "  _np_qint32 = np.dtype([(\"qint32\", np.int32, 1)])\n",
      "/Users/kevinandersson/opt/miniconda3/envs/Physics-env/lib/python3.7/site-packages/tensorflow/python/framework/dtypes.py:535: FutureWarning: Passing (type, 1) or '1type' as a synonym of type is deprecated; in a future version of numpy, it will be understood as (type, (1,)) / '(1,)type'.\n",
      "  np_resource = np.dtype([(\"resource\", np.ubyte, 1)])\n"
     ]
    },
    {
     "name": "stdout",
     "output_type": "stream",
     "text": [
      "The tensorboard module is not an IPython extension.\n"
     ]
    }
   ],
   "source": [
    "# Local Imports\n",
    "import os\n",
    "import pickle\n",
    "import time\n",
    "import datetime\n",
    "\n",
    "# Third-party imports\n",
    "import numpy as np\n",
    "import matplotlib.pyplot as plt\n",
    "import scipy as sc\n",
    "from scipy.stats import entropy\n",
    "import pymc3\n",
    "#import board\n",
    "\n",
    "# Keras\n",
    "import tensorflow as tf\n",
    "from tensorflow import keras\n",
    "from tensorflow.keras import layers\n",
    "from tensorflow.keras import initializers\n",
    "from tensorflow.keras.layers import Dense\n",
    "from tqdm.notebook import tqdm\n",
    "%load_ext tensorboard\n",
    "\n",
    "# Set plot params\n",
    "plt.rc('font', size=18)          # controls default text sizes\n",
    "plt.rc('axes', titlesize=18)     # fontsize of the axes title\n",
    "plt.rc('axes', labelsize=18)     # fontsize of the x and y labels\n",
    "plt.rc('xtick', labelsize=18)    # fontsize of the tick labels\n",
    "plt.rc('ytick', labelsize=18)    # fontsize of the tick labels\n",
    "plt.rc('legend', fontsize=18)    # legend fontsize"
   ]
  },
  {
   "cell_type": "code",
   "execution_count": 3,
   "metadata": {},
   "outputs": [
    {
     "ename": "NameError",
     "evalue": "name 'board' is not defined",
     "output_type": "error",
     "traceback": [
      "\u001b[0;31m---------------------------------------------------------------------------\u001b[0m",
      "\u001b[0;31mNameError\u001b[0m                                 Traceback (most recent call last)",
      "\u001b[0;32m<ipython-input-3-a3764c50d235>\u001b[0m in \u001b[0;36m<module>\u001b[0;34m\u001b[0m\n\u001b[1;32m      1\u001b[0m \u001b[0mstart_time\u001b[0m \u001b[0;34m=\u001b[0m \u001b[0mtime\u001b[0m\u001b[0;34m.\u001b[0m\u001b[0mtime\u001b[0m\u001b[0;34m(\u001b[0m\u001b[0;34m)\u001b[0m\u001b[0;34m\u001b[0m\u001b[0;34m\u001b[0m\u001b[0m\n\u001b[0;32m----> 2\u001b[0;31m \u001b[0mn\u001b[0m \u001b[0;34m=\u001b[0m \u001b[0mboard\u001b[0m\u001b[0;34m.\u001b[0m\u001b[0mexperiment\u001b[0m\u001b[0;34m(\u001b[0m\u001b[0;34m)\u001b[0m\u001b[0;34m\u001b[0m\u001b[0;34m\u001b[0m\u001b[0m\n\u001b[0m\u001b[1;32m      3\u001b[0m \u001b[0mprint\u001b[0m\u001b[0;34m(\u001b[0m\u001b[0;34m\"--- %s seconds ---\"\u001b[0m \u001b[0;34m%\u001b[0m \u001b[0;34m(\u001b[0m\u001b[0mtime\u001b[0m\u001b[0;34m.\u001b[0m\u001b[0mtime\u001b[0m\u001b[0;34m(\u001b[0m\u001b[0;34m)\u001b[0m \u001b[0;34m-\u001b[0m \u001b[0mstart_time\u001b[0m\u001b[0;34m)\u001b[0m\u001b[0;34m)\u001b[0m\u001b[0;34m\u001b[0m\u001b[0;34m\u001b[0m\u001b[0m\n\u001b[1;32m      4\u001b[0m \u001b[0mprint\u001b[0m\u001b[0;34m(\u001b[0m\u001b[0mn\u001b[0m\u001b[0;34m)\u001b[0m\u001b[0;34m\u001b[0m\u001b[0;34m\u001b[0m\u001b[0m\n\u001b[1;32m      5\u001b[0m \u001b[0mprint\u001b[0m\u001b[0;34m(\u001b[0m\u001b[0mnp\u001b[0m\u001b[0;34m.\u001b[0m\u001b[0msum\u001b[0m\u001b[0;34m(\u001b[0m\u001b[0mn\u001b[0m\u001b[0;34m)\u001b[0m\u001b[0;34m)\u001b[0m\u001b[0;34m\u001b[0m\u001b[0;34m\u001b[0m\u001b[0m\n",
      "\u001b[0;31mNameError\u001b[0m: name 'board' is not defined"
     ]
    }
   ],
   "source": [
    "start_time = time.time()\n",
    "n = board.experiment()\n",
    "print(\"--- %s seconds ---\" % (time.time() - start_time))\n",
    "print(n)\n",
    "print(np.sum(n))"
   ]
  },
  {
   "cell_type": "markdown",
   "metadata": {},
   "source": [
    "# Task 1: Simulator"
   ]
  },
  {
   "cell_type": "code",
   "execution_count": 4,
   "metadata": {},
   "outputs": [
    {
     "name": "stdout",
     "output_type": "stream",
     "text": [
      "--- 0.849341869354248 seconds ---\n",
      "--- 0.974276065826416 seconds ---\n",
      "(1000, 32)\n"
     ]
    }
   ],
   "source": [
    "nRows = 31\n",
    "\n",
    "def simulator(alpha=0, s=0, n=1000):\n",
    "    nslots = nRows+1 # Number of positions for marble in last row\n",
    "    counts = np.zeros(nslots)\n",
    "    \n",
    "    nRight = np.zeros(n, dtype = int)\n",
    "    M = np.zeros(n)\n",
    "    \n",
    "    rands = np.random.uniform(size = (n,nRows))\n",
    "\n",
    "    for i in range(nRows):\n",
    "        thres = 0.5 + alpha*M + s\n",
    "\n",
    "        right = rands[:,i]<=thres\n",
    "        nRight += right\n",
    "        M = right - 0.5\n",
    "\n",
    "    for i in range(nslots):\n",
    "        counts[i] = (nRight == i).sum()        \n",
    "    return counts\n",
    "\n",
    "def simulator2(alpha=0, s=0, n=1000):\n",
    "    \n",
    "#     assert len(alpha) == len(s)\n",
    "    alpha = alpha.reshape(-1,1)\n",
    "    s = s.reshape(-1,1)\n",
    "    \n",
    "    nslots = nRows+1 # Number of positions for marble in last row\n",
    "    counts = np.zeros((len(alpha), nslots))\n",
    "    nRight = np.zeros((len(alpha), n), dtype = int)\n",
    "    M = np.zeros((len(alpha), n))\n",
    "    \n",
    "    rands = np.random.uniform(size = (len(alpha),n,nRows))\n",
    "    for i in range(nRows):\n",
    "        thres = 0.5 + np.multiply(alpha,M) + s\n",
    "\n",
    "        right = rands[:,:,i]<=thres\n",
    "        nRight += right\n",
    "        M = right - 0.5\n",
    "\n",
    "    for i in range(nslots):\n",
    "        counts[:,i] = (nRight == i).sum(axis=1)\n",
    "        \n",
    "    return counts\n",
    "   \n",
    "alpha = 0.2\n",
    "s = 0.1\n",
    "start_time = time.time()\n",
    "for i in range(1000):\n",
    "    simulator(alpha, s, n=1000)\n",
    "print(\"--- %s seconds ---\" % (time.time() - start_time))\n",
    "\n",
    "\n",
    "alpha = np.random.rand(1000)*0.2\n",
    "s = np.random.rand(1000)*0.1\n",
    "start_time = time.time()\n",
    "counts = simulator2(alpha, s, n=1000)\n",
    "\n",
    "print(\"--- %s seconds ---\" % (time.time() - start_time))\n",
    "print(counts.shape)\n",
    "    "
   ]
  },
  {
   "cell_type": "code",
   "execution_count": 4,
   "metadata": {},
   "outputs": [
    {
     "name": "stdout",
     "output_type": "stream",
     "text": [
      "[[0.04930741 0.38572278 0.08192403 0.93131354]\n",
      " [0.16390611 0.0545504  0.59254675 0.6139933 ]\n",
      " [0.15351785 0.80234896 0.70206706 0.14791498]\n",
      " [0.23420766 0.18168861 0.07740783 0.3211046 ]]\n",
      "[[0.04930741 0.38572278 0.08192403 0.93131354]\n",
      " [0.32781221 0.10910079 1.1850935  1.22798661]\n",
      " [0.46055355 2.40704689 2.10620117 0.44374495]\n",
      " [0.93683064 0.72675442 0.30963131 1.2844184 ]]\n",
      "[[1.04930741 1.38572278 1.08192403 1.93131354]\n",
      " [2.32781221 2.10910079 3.1850935  3.22798661]\n",
      " [3.46055355 5.40704689 5.10620117 3.44374495]\n",
      " [4.93683064 4.72675442 4.30963131 5.2844184 ]]\n"
     ]
    }
   ],
   "source": [
    "a = np.array([1,2,3,4])\n",
    "b = np.random.uniform(size=(4,4))\n",
    "print(b)\n",
    "print(np.multiply(a.reshape(-1,1),b))\n",
    "print(np.multiply(a.reshape(-1,1),b)+a.reshape(-1,1))"
   ]
  },
  {
   "cell_type": "code",
   "execution_count": 5,
   "metadata": {},
   "outputs": [
    {
     "name": "stdout",
     "output_type": "stream",
     "text": [
      "Loading pickled training data\n"
     ]
    }
   ],
   "source": [
    "def gen_data(nData, alpha = None):\n",
    "    alphaData = np.random.rand(nData)*0.5\n",
    "    sData = np.random.rand(nData)*0.5 - 0.25\n",
    "    y = np.zeros((nData, 2))\n",
    "    X = np.zeros((nData, nRows+1))\n",
    "    print(np.mean(alphaData))\n",
    "    for i in tqdm(range(nData)):\n",
    "        s = sData[i]\n",
    "        y[i,1] = s\n",
    "        if alpha != None:\n",
    "            y[i,0] = alpha\n",
    "            X[i,:] = simulator(alpha, s)\n",
    "        else:\n",
    "            a = alphaData[i]\n",
    "            y[i,0] = a\n",
    "            X[i,:] = simulator(a, s)     \n",
    "    return X, y # return experiments and labels\n",
    "\n",
    "\n",
    "n_data = 300000\n",
    "data_file = f'saved_structures/train_data_n={n_data}.p'\n",
    "\n",
    "if os.path.isfile(data_file):\n",
    "    print('Loading pickled training data')\n",
    "    data = pickle.load(open( data_file, \"rb\" ))\n",
    "    X, y = data\n",
    "else:\n",
    "    print('Generating training data')\n",
    "    X,y = gen_data(n_data)\n",
    "    data = (X,y)\n",
    "    pickle.dump(data, open(data_file, \"wb\"))"
   ]
  },
  {
   "cell_type": "markdown",
   "metadata": {},
   "source": [
    "# Task 2: NN"
   ]
  },
  {
   "cell_type": "code",
   "execution_count": 6,
   "metadata": {},
   "outputs": [
    {
     "name": "stdout",
     "output_type": "stream",
     "text": [
      "WARNING:tensorflow:From /Users/kevinandersson/opt/miniconda3/envs/Physics-env/lib/python3.7/site-packages/tensorflow/python/ops/resource_variable_ops.py:435: colocate_with (from tensorflow.python.framework.ops) is deprecated and will be removed in a future version.\n",
      "Instructions for updating:\n",
      "Colocations handled automatically by placer.\n",
      "WARNING:tensorflow:From /Users/kevinandersson/opt/miniconda3/envs/Physics-env/lib/python3.7/site-packages/tensorflow/python/keras/utils/losses_utils.py:170: to_float (from tensorflow.python.ops.math_ops) is deprecated and will be removed in a future version.\n",
      "Instructions for updating:\n",
      "Use tf.cast instead.\n",
      "_________________________________________________________________\n",
      "Layer (type)                 Output Shape              Param #   \n",
      "=================================================================\n",
      "dense (Dense)                (None, 32)                1056      \n",
      "_________________________________________________________________\n",
      "dense_1 (Dense)              (None, 2)                 66        \n",
      "=================================================================\n",
      "Total params: 1,122\n",
      "Trainable params: 1,122\n",
      "Non-trainable params: 0\n",
      "_________________________________________________________________\n"
     ]
    }
   ],
   "source": [
    "def nn_model(X):\n",
    "    input_shape = (X.shape[1],)\n",
    "    model = keras.Sequential()\n",
    "    # model.add(keras.Input(shape=input_shape))\n",
    "    model.add(layers.Dense(32, input_shape=input_shape, activation=\"relu\", kernel_initializer='random_normal'))\n",
    "#     model.add(layers.Dense(16, activation=\"relu\", kernel_initializer='random_normal'))\n",
    "#     model.add(layers.Dense(8, activation=\"relu\", kernel_initializer='random_normal'))\n",
    "    # model.add(layers.Dense(3, activation=\"relu\"))\n",
    "    model.add(layers.Dense(\n",
    "              2,  \n",
    "#               kernel_initializer=initializers.RandomNormal(stddev=0.01), \n",
    "#               bias_initializer=initializers.RandomNormal(mean=1.0, stddev=0.1)\n",
    "              bias_initializer=initializers.Zeros()\n",
    "    ))\n",
    "    #opt = keras.optimizers.Adam(learning_rate=0.1)\n",
    "    model.compile(loss='mean_squared_error', optimizer=\"adam\", metrics=['mean_absolute_error'])\n",
    "    return model\n",
    "model = nn_model(X)\n",
    "model.summary()"
   ]
  },
  {
   "cell_type": "code",
   "execution_count": 8,
   "metadata": {
    "scrolled": false
   },
   "outputs": [
    {
     "name": "stdout",
     "output_type": "stream",
     "text": [
      "Training NN and saving model and history\n",
      "1000.0\n",
      "WARNING:tensorflow:From /Users/kevinandersson/opt/miniconda3/envs/Physics-env/lib/python3.7/site-packages/tensorflow/python/ops/math_ops.py:3066: to_int32 (from tensorflow.python.ops.math_ops) is deprecated and will be removed in a future version.\n",
      "Instructions for updating:\n",
      "Use tf.cast instead.\n"
     ]
    }
   ],
   "source": [
    "model_file = f'saved_structures/nn_model_n={n_data}'\n",
    "history_file = f'saved_structures/training_history_n={n_data}.p'\n",
    "\n",
    "if os.path.exists(model_file) and os.path.isfile(history_file):\n",
    "    print('Loading models and history')\n",
    "    model = keras.models.load_model(model_file)\n",
    "    mae_history = pickle.load(open( history_file, \"rb\" ))\n",
    "    \n",
    "else: \n",
    "    print('Training NN and saving model and history')\n",
    "    N = X[0,:].sum()\n",
    "    print(N)\n",
    "    log_dir = \"logs/fit/\" + datetime.datetime.now().strftime(\"%Y%m%d-%H%M%S\")\n",
    "    tensorboard_callback = tf.keras.callbacks.TensorBoard(log_dir=log_dir, histogram_freq=1)\n",
    "    history = model.fit(x=X/N,\n",
    "                        y=y,\n",
    "                        epochs=200,\n",
    "                        batch_size=1024,\n",
    "                        validation_split=0.7,\n",
    "                        verbose=0,\n",
    "                        callbacks=[tensorboard_callback])\n",
    "    model.save(model_file)\n",
    "    mae_history = history.history\n",
    "    pickle.dump(mae_history, open(history_file, \"wb\") )"
   ]
  },
  {
   "cell_type": "code",
   "execution_count": 9,
   "metadata": {},
   "outputs": [
    {
     "name": "stdout",
     "output_type": "stream",
     "text": [
      "dict_keys(['loss', 'mean_absolute_error', 'val_loss', 'val_mean_absolute_error'])\n",
      "0.03197999\n"
     ]
    },
    {
     "data": {
      "image/png": "[encoded data removed]",
      "text/plain": [
       "<Figure size 864x432 with 2 Axes>"
      ]
     },
     "metadata": {
      "needs_background": "light"
     },
     "output_type": "display_data"
    }
   ],
   "source": [
    "# Plot training history\n",
    "print(mae_history.keys())\n",
    "key = 'mean_absolute_error'\n",
    "epochs = range(1, len(mae_history[key])+1)\n",
    "\n",
    "fig, axs = plt.subplots(1, 2, figsize=(12,6))\n",
    "\n",
    "axs[0].plot(epochs, mae_history['val_loss'], label='Val loss')\n",
    "axs[0].plot(epochs, mae_history['loss'], label='train loss')\n",
    "axs[0].set_xlabel('Epochs')\n",
    "axs[0].set_ylabel('Loss, MSE')\n",
    "axs[0].legend(loc='best')\n",
    "axs[0].set_yscale('log')\n",
    "\n",
    "axs[1].plot(epochs, mae_history['val_'+key], label='Val mae')\n",
    "axs[1].plot(epochs, mae_history[key], label='train mae')\n",
    "axs[1].set_xlabel('Epochs')\n",
    "axs[1].set_ylabel('MAE')\n",
    "axs[1].legend(loc='best')\n",
    "axs[1].set_yscale('log')\n",
    "axs[1].grid()\n",
    "\n",
    "plt.tight_layout()\n",
    "\n",
    "print(mae_history['val_'+key][-1])"
   ]
  },
  {
   "cell_type": "markdown",
   "metadata": {},
   "source": [
    "## Task3"
   ]
  },
  {
   "cell_type": "code",
   "execution_count": 76,
   "metadata": {},
   "outputs": [
    {
     "name": "stdout",
     "output_type": "stream",
     "text": [
      "0.2505835328900558\n"
     ]
    },
    {
     "data": {
      "application/vnd.jupyter.widget-view+json": {
       "model_id": "aa93207c3c484208b18489bd9d5673ec",
       "version_major": 2,
       "version_minor": 0
      },
      "text/plain": [
       "HBox(children=(FloatProgress(value=0.0, max=1000.0), HTML(value='')))"
      ]
     },
     "metadata": {},
     "output_type": "display_data"
    },
    {
     "name": "stdout",
     "output_type": "stream",
     "text": [
      "\n",
      "0.25178481153052384\n"
     ]
    },
    {
     "data": {
      "application/vnd.jupyter.widget-view+json": {
       "model_id": "da0a03edac78490f977b2ca4eae1b00b",
       "version_major": 2,
       "version_minor": 0
      },
      "text/plain": [
       "HBox(children=(FloatProgress(value=0.0, max=1000.0), HTML(value='')))"
      ]
     },
     "metadata": {},
     "output_type": "display_data"
    },
    {
     "name": "stdout",
     "output_type": "stream",
     "text": [
      "\n",
      "0.06569190245397562 0.01338145609717396\n",
      "7.806597861229769e-05 0.001724190233395541\n"
     ]
    },
    {
     "data": {
      "image/png": "[encoded data removed]",
      "text/plain": [
       "<Figure size 576x432 with 1 Axes>"
      ]
     },
     "metadata": {
      "needs_background": "light"
     },
     "output_type": "display_data"
    }
   ],
   "source": [
    "nData = 1000\n",
    "    \n",
    "y,labels = gen_data(nData)\n",
    "\n",
    "theta = model.predict(y/1000)\n",
    "error = theta - labels\n",
    "\n",
    "alpha_mean = np.mean(error[:,0])\n",
    "alpha_std = np.std(error[:,0])\n",
    "s_mean = np.mean(error[:,1])\n",
    "s_std = np.std(error[:,1])\n",
    "\n",
    "y_obs,_ = gen_data(nData, alpha = 0.2)\n",
    "print(alpha_std, s_std)\n",
    "print(alpha_mean, s_mean)\n",
    "\n",
    "fig, ax = plt.subplots(figsize=(8,6))\n",
    "ax.scatter(x=error[:,0], y=error[:,1])\n",
    "ax.axhline(s_mean)\n",
    "ax.axvline(alpha_mean)\n",
    "ax.set_xlabel(r'$\\alpha$ error')\n",
    "ax.set_ylabel(r'$s$ error')\n",
    "plt.tight_layout()"
   ]
  },
  {
   "cell_type": "code",
   "execution_count": 17,
   "metadata": {},
   "outputs": [
    {
     "data": {
      "text/plain": [
       "[<matplotlib.lines.Line2D at 0x1349f7810>]"
      ]
     },
     "execution_count": 17,
     "metadata": {},
     "output_type": "execute_result"
    },
    {
     "data": {
      "image/png": "[encoded data removed]",
      "text/plain": [
       "<Figure size 432x288 with 1 Axes>"
      ]
     },
     "metadata": {
      "needs_background": "light"
     },
     "output_type": "display_data"
    },
    {
     "data": {
      "image/png": "[encoded data removed]",
      "text/plain": [
       "<Figure size 576x432 with 1 Axes>"
      ]
     },
     "metadata": {
      "needs_background": "light"
     },
     "output_type": "display_data"
    }
   ],
   "source": [
    "##         \n",
    "y_ob = y_obs[4,:]\n",
    "theta_m = model.predict(y_ob.reshape(1,32)/1000)[0]\n",
    "\n",
    "s_m = theta_m[1]\n",
    "alpha_m = theta_m[0]\n",
    "s_star = np.random.normal(loc = s_m, scale  = s_std)\n",
    "\n",
    "alpha_star = np.random.rand()*0.5\n",
    "y_star = simulator(alpha_star, s_star)\n",
    "\n",
    "plt.plot(y_star)\n",
    "plt.plot(y_ob)\n",
    "\n",
    "n = 40\n",
    "theta_pred = np.zeros((n,2))\n",
    "stds = np.linspace(0,100,n)\n",
    "for i, std in enumerate(stds):\n",
    "    y = y_ob + np.random.normal(size = 32 ,loc = 0, scale = std)\n",
    "    theta_pred[i,:] = model.predict(y.reshape(1,32)/1000)[0]\n",
    "\n",
    "\n",
    "fig,ax = plt.subplots(figsize = (8,6))\n",
    "ax.plot(stds, theta_pred[:,0]-0.2)\n"
   ]
  },
  {
   "cell_type": "code",
   "execution_count": 151,
   "metadata": {
    "scrolled": true
   },
   "outputs": [
    {
     "name": "stdout",
     "output_type": "stream",
     "text": [
      "0.30809181193279195\n"
     ]
    },
    {
     "data": {
      "application/vnd.jupyter.widget-view+json": {
       "model_id": "ffbd337dbeac403a90d14459c6e03ef7",
       "version_major": 2,
       "version_minor": 0
      },
      "text/plain": [
       "HBox(children=(FloatProgress(value=0.0, max=4.0), HTML(value='')))"
      ]
     },
     "metadata": {},
     "output_type": "display_data"
    },
    {
     "name": "stdout",
     "output_type": "stream",
     "text": [
      "\n"
     ]
    },
    {
     "data": {
      "application/vnd.jupyter.widget-view+json": {
       "model_id": "7e92ffb99b264986ac8ac1fd6aaeb122",
       "version_major": 2,
       "version_minor": 0
      },
      "text/plain": [
       "HBox(children=(FloatProgress(value=1.0, bar_style='info', max=1.0), HTML(value='')))"
      ]
     },
     "metadata": {},
     "output_type": "display_data"
    },
    {
     "name": "stdout",
     "output_type": "stream",
     "text": [
      "[1.2641723e-07 1.9780767e-01 2.2786013e-10 4.1845678e-06]\n",
      "[1.8768846e-08 4.2436317e-09 4.3870709e-11 6.1825460e-07]\n",
      "[2.5271674e-09 2.4109942e-10 1.0161526e-11 8.7292949e-07]\n",
      "[1.2273654e-10 2.6693334e-41 6.3816597e-15 7.3272502e-25]\n",
      "\n",
      "Acceptance ratio: 0.05325\n",
      "Accepted: 213\n"
     ]
    }
   ],
   "source": [
    "def kernel(y, y_obs, h = 0.1, statistic = \"KL\"):\n",
    "    N = y_obs.sum()\n",
    "    if statistic == \"KL\":\n",
    "        y_o = np.tile(y_obs, reps=(y.shape[0],1))\n",
    "        entrop = entropy(pk = y, qk = y_o, axis=1)\n",
    "        x = entrop/h\n",
    "    elif statistic == \"mean\":\n",
    "        grid = np.arange(0,32)\n",
    "        y_mean =(y*grid).sum(axis=1)/N\n",
    "        y_obs_mean = (y_obs*grid).sum()/N\n",
    "        x = np.abs((y_mean - y_obs_mean))/h\n",
    "    elif statistic == \"euc\":\n",
    "        deltasq = ((y-y_obs)/N)**2\n",
    "        x = np.sqrt(deltasq.sum(axis=1))/h\n",
    "    elif statistic == \"NN\":\n",
    "        theta_obs = model.predict(y_obs.reshape(1,32)/N)[0]\n",
    "        theta = model.predict(y/N)\n",
    "        delta = (theta - theta_obs) \n",
    "        x = np.sqrt(delta[:,0]**2 + delta[:,1]**2)/h\n",
    "    elif statistic == \"WSD\":\n",
    "        x = np.zeros(y.shape[0])\n",
    "        for i, y_i in enumerate(y):\n",
    "            x[i] = sc.stats.wasserstein_distance(y_i,y_obs)/h\n",
    "    elif statistic == \"ED\":\n",
    "        x = np.zeros(y.shape[0])\n",
    "        for i, y_i in enumerate(y):\n",
    "            x[i] = sc.stats.energy_distance(y_i,y_obs)/h\n",
    "    \n",
    "    sigma = 1/np.sqrt(2*np.pi) # Set sigma so that K(0) = 1 \n",
    "    sigma = alpha_std\n",
    "    return np.exp(-x**2/(2*sigma**2))/np.sqrt(2*np.pi*sigma**2)\n",
    "\n",
    "\n",
    "def ABC_MCMC(y_obs, gen_alpha = \"prior\", max_iter = 50, sim_iter=1, s_std = 0.01, alpha_std = 0.01):\n",
    "    alpha = []\n",
    "    N = y_obs[0,:].sum()\n",
    "    # Multa samman kern för alla y_obs? Som vi gör i vanliga fall med likelihood\n",
    "    for i, y_ob in tqdm(enumerate(y_obs)):\n",
    "        theta_m = model.predict(y_ob.reshape(1,32)/N)[0]\n",
    "        s_m = theta_m[1]\n",
    "        alpha_m = theta_m[0]\n",
    "        \n",
    "        s_star = np.random.normal(loc = s_m, scale  = s_std, size=max_iter)\n",
    "        alpha_star = np.random.uniform(low=0.0, high=0.5, size=max_iter)\n",
    "\n",
    "        y_star = simulator2(alpha_star, s_star, n=1000*sim_iter)\n",
    "        y_star /= sim_iter\n",
    "        kern = kernel(y_star, y_ob, h=0.05, statistic = \"euc\")\n",
    "        \n",
    "        p_acc = kern\n",
    "        for i, p in enumerate(p_acc):\n",
    "            if np.random.rand() < p:\n",
    "                alpha.append(alpha_star[i])\n",
    "    return np.array(alpha)\n",
    "\n",
    "def ABC_MCMC2(y_obs, gen_alpha = \"prior\", max_iter = 50, sim_iter=1, s_std = 0.01, alpha_std = 0.01):\n",
    "    alpha = []\n",
    "    N = y_obs[0,:].sum()\n",
    "    \n",
    "    alpha_star = np.random.uniform(low=0.0, high=0.5, size=max_iter)\n",
    "    # Multa samman kern för alla y_obs? Som vi gör i vanliga fall med likelihood\n",
    "    for i, y_ob in tqdm(enumerate(y_obs)):\n",
    "        theta_m = model.predict(y_ob.reshape(1,32)/N)[0]\n",
    "        s_m = theta_m[1]\n",
    "        alpha_m = theta_m[0]\n",
    "        \n",
    "        s_star = np.random.normal(loc = s_m, scale  = s_std, size=max_iter)\n",
    "\n",
    "        y_star = simulator2(alpha_star, s_star, n=1000*sim_iter)\n",
    "        y_star /= sim_iter\n",
    "        \n",
    "        kern = kernel(y_star, y_ob, h=0.5, statistic = \"NN\")\n",
    "        if i == 0:\n",
    "            p_acc = kern\n",
    "        else:\n",
    "            p_acc = p_acc*kern\n",
    "        print(p_acc[0:4])\n",
    "        \n",
    "        \n",
    "    for i, p in enumerate(p_acc):\n",
    "        if np.random.rand() < p:\n",
    "            alpha.append(alpha_star[i])\n",
    "    return np.array(alpha)\n",
    "\n",
    "def ABC_MCMC3(y_obs, gen_alpha = \"prior\", max_iter = 50, sim_iter=1, s_std = 0.01, alpha_std = 0.01):\n",
    "    alpha = []\n",
    "    N = y_obs[0,:].sum()\n",
    "    \n",
    "    # Multa samman kern för alla y_obs? Som vi gör i vanliga fall med likelihood\n",
    "    for i, y_ob in tqdm(enumerate(y_obs)):\n",
    "        theta_m = model.predict(y_ob.reshape(1,32)/N)[0]\n",
    "        s_m = theta_m[1]\n",
    "        alpha_m = theta_m[0]\n",
    "        \n",
    "        s_star = np.random.normal(loc = s_m, scale  = s_std, size=max_iter)\n",
    "        alpha_star = np.random.normal(loc = alpha_m, scale  = alpha_std, size=max_iter)\n",
    "\n",
    "        y_star = simulator2(alpha_star, s_star, n=1000*sim_iter)\n",
    "        y_star /= sim_iter\n",
    "        \n",
    "        kern = kernel(y_star, y_ob, h=0.05, statistic = \"NN\")\n",
    "        \n",
    "        norm = sc.stats.norm(loc=alpha_m, scale = alpha_std)\n",
    "        M1 = norm.pdf(0)\n",
    "        M2 = norm.pdf(0.5)\n",
    "        M = max((1/M1,1/M2))\n",
    "           \n",
    "        p_acc = kern/(norm.pdf(alpha_star))\n",
    "        M = 0.1\n",
    "        p_acc = p_acc/M\n",
    "        \n",
    "        if i == 0:\n",
    "            p_acc_tot = p_acc\n",
    "        else:\n",
    "            p_acc_tot = p_acc_tot*p_acc\n",
    "            \n",
    "        print(p_acc_tot[0:4], p_acc.max(), M)\n",
    "              \n",
    "    for i, p in enumerate(p_acc_tot):\n",
    "        if np.random.rand() < p:\n",
    "            alpha.append(alpha_star[i])\n",
    "    return np.array(alpha)\n",
    "\n",
    "nData = 4\n",
    "y_obs,_ = gen_data(nData, alpha = 0.2)\n",
    "\n",
    "max_iter = 1000\n",
    "sim_iter = 1\n",
    "alpha = ABC_MCMC2(y_obs, max_iter=max_iter, sim_iter=sim_iter, s_std = s_std, alpha_std=alpha_std)\n",
    "print(f'Acceptance ratio: {alpha.shape[0] / (y_obs.shape[0]*max_iter)}')\n",
    "print(f'Accepted: {alpha.shape[0]}')"
   ]
  },
  {
   "cell_type": "code",
   "execution_count": 150,
   "metadata": {
    "scrolled": false
   },
   "outputs": [
    {
     "name": "stdout",
     "output_type": "stream",
     "text": [
      "[0.16353432 0.25752048]\n"
     ]
    },
    {
     "name": "stderr",
     "output_type": "stream",
     "text": [
      "/Users/kevinandersson/opt/miniconda3/envs/Physics-env/lib/python3.7/site-packages/arviz/stats/stats.py:338: UserWarning: hpd will be deprecated Please replace hdi\n",
      "  (\"hpd will be deprecated \" \"Please replace hdi\"),\n"
     ]
    },
    {
     "data": {
      "text/plain": [
       "<matplotlib.legend.Legend at 0x13814a090>"
      ]
     },
     "execution_count": 150,
     "metadata": {},
     "output_type": "execute_result"
    },
    {
     "data": {
      "image/png": "[encoded data removed]",
      "text/plain": [
       "<Figure size 576x432 with 1 Axes>"
      ]
     },
     "metadata": {
      "needs_background": "light"
     },
     "output_type": "display_data"
    }
   ],
   "source": [
    "fig,ax = plt.subplots(figsize = (8,6))\n",
    "ax.hist(alpha ,bins = 41, density = True)\n",
    "\n",
    "hdi = pymc3.stats.hpd(alpha, 0.90)\n",
    "print(hdi)\n",
    "ymax = ax.get_ylim()[1]\n",
    "ax.plot(hdi, [ymax/10, ymax/10], c='k', label='90% HPD')\n",
    "ax.axvline(np.mean(alpha), c='r', label=r'$\\overline{w}$'+f'={np.mean(alpha):.4f}')\n",
    "ax.text(hdi[0], ymax/9, s=f'{hdi[0]:.2f}')\n",
    "ax.text(hdi[1], ymax/9, s=f'{hdi[1]:.2f}')\n",
    "plt.tight_layout()\n",
    "ax.set_xlabel(r'$w$')\n",
    "ax.legend(loc='best')\n",
    "#plt.savefig('figures_task2/w_posterior.png')"
   ]
  },
  {
   "cell_type": "code",
   "execution_count": 129,
   "metadata": {},
   "outputs": [
    {
     "name": "stdout",
     "output_type": "stream",
     "text": [
      "(4, 4)\n"
     ]
    }
   ],
   "source": [
    "a = np.array([1,2,3,4])\n",
    "# print(np.repeat(a.reshape(-1,1), 4, axis=1))\n",
    "a = np.tile(a, (4,1))\n",
    "print(a.shape)"
   ]
  },
  {
   "cell_type": "markdown",
   "metadata": {},
   "source": [
    "Best result CI 0.14-0.26, max_iter = 1000, h = 0.05"
   ]
  },
  {
   "cell_type": "code",
   "execution_count": null,
   "metadata": {},
   "outputs": [],
   "source": [
    "def ABC_MCMC(y_obs, gen_alpha = \"prior\", max_iter = 50, sim_iter=1, s_std = 0.01, alpha_std = 0.01):\n",
    "    alpha = []\n",
    "    N = y_obs[0,:].sum()\n",
    "    for i, y_ob in tqdm(enumerate(y_obs)):\n",
    "        theta_m = model.predict(y_ob.reshape(1,32)/N)[0]\n",
    "        s_m = theta_m[1]\n",
    "        alpha_m = theta_m[0]\n",
    "        \n",
    "        \n",
    "        \n",
    "        for j in range(max_iter):\n",
    "#             start_time = time.time()\n",
    "            s_star = np.random.normal(loc = s_m, scale  = s_std)\n",
    "            \n",
    "            if gen_alpha == \"NN\":\n",
    "                # Use NN for alpha\n",
    "                alpha_star = np.random.normal(loc = alpha_m, scale  = alpha_std)\n",
    "                y_star = simulator(alpha_star, s_star)\n",
    "                kern = kernel(y_star, y_ob)\n",
    "\n",
    "                norm = sc.stats.norm(loc=alpha_m, scale = alpha_std)\n",
    "                M1 = norm.pdf(0)\n",
    "                M2 = norm.pdf(0.5)\n",
    "                M = 2*max((1/M1,1/M2))*1\n",
    "                M=1\n",
    "\n",
    "                p_acc = kern*2/(M*norm.pdf(alpha_star))\n",
    "                #print(p_acc, M, M1, M2)\n",
    "                \n",
    "            else:\n",
    "                # Use prior for alpha\n",
    "                alpha_star = np.random.rand()*0.5  \n",
    "                y_star = simulator(alpha_star, s_star, n=1000*sim_iter)\n",
    "                y_star /= sim_iter\n",
    "#                 start_time2 = time.time()\n",
    "                kern = kernel(y_star, y_ob, h=0.05, statistic = \"NN\")\n",
    "#                 print(\"--- %s seconds ---\" % (time.time() - start_time2))\n",
    "                p_acc = kern\n",
    "            \n",
    "            if(np.random.rand() < p_acc):\n",
    "                alpha.append(alpha_star) \n",
    "#             print(\"--- %s seconds ---\" % (time.time() - start_time))\n",
    "    return np.array(alpha) "
   ]
  }
 ],
 "metadata": {
  "kernelspec": {
   "display_name": "Python 3",
   "language": "python",
   "name": "python3"
  },
  "language_info": {
   "codemirror_mode": {
    "name": "ipython",
    "version": 3
   },
   "file_extension": ".py",
   "mimetype": "text/x-python",
   "name": "python",
   "nbconvert_exporter": "python",
   "pygments_lexer": "ipython3",
   "version": "3.7.6"
  }
 },
 "nbformat": 4,
 "nbformat_minor": 4
}
