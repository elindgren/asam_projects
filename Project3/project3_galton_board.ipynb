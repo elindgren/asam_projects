{
 "cells": [
  {
   "cell_type": "code",
   "execution_count": 1,
   "metadata": {},
   "outputs": [],
   "source": [
    "# Local Imports\n",
    "import os\n",
    "import pickle\n",
    "import time\n",
    "import datetime\n",
    "\n",
    "# Third-party imports\n",
    "import numpy as np\n",
    "import matplotlib.pyplot as plt\n",
    "import scipy as sc\n",
    "from scipy.stats import entropy\n",
    "import pymc3\n",
    "import board\n",
    "\n",
    "# Keras\n",
    "import tensorflow as tf\n",
    "from tensorflow import keras\n",
    "from tensorflow.keras import layers\n",
    "from tensorflow.keras import initializers\n",
    "from tensorflow.keras.layers import Dense\n",
    "from tqdm.notebook import tqdm\n",
    "%load_ext tensorboard\n",
    "\n",
    "# Set plot params\n",
    "plt.rc('font', size=18)          # controls default text sizes\n",
    "plt.rc('axes', titlesize=18)     # fontsize of the axes title\n",
    "plt.rc('axes', labelsize=18)     # fontsize of the x and y labels\n",
    "plt.rc('xtick', labelsize=18)    # fontsize of the tick labels\n",
    "plt.rc('ytick', labelsize=18)    # fontsize of the tick labels\n",
    "plt.rc('legend', fontsize=18)    # legend fontsize"
   ]
  },
  {
   "cell_type": "code",
   "execution_count": 2,
   "metadata": {},
   "outputs": [
    {
     "name": "stdout",
     "output_type": "stream",
     "text": [
      "--- 0.11056160926818848 seconds ---\n",
      "[  0.   0.   0.   0.   0.   0.   0.   0.   0.   0.   1.   1.   2.   5.\n",
      "   9.  10.  20.  26.  52.  60.  93.  92. 104. 124. 104.  91.  77.  59.\n",
      "  38.  23.   5.   4.]\n",
      "1000.0\n"
     ]
    }
   ],
   "source": [
    "start_time = time.time()\n",
    "n = board.experiment()\n",
    "print(\"--- %s seconds ---\" % (time.time() - start_time))\n",
    "print(n)\n",
    "print(np.sum(n))"
   ]
  },
  {
   "cell_type": "markdown",
   "metadata": {},
   "source": [
    "# Task 1: Simulator"
   ]
  },
  {
   "cell_type": "code",
   "execution_count": 98,
   "metadata": {},
   "outputs": [
    {
     "name": "stdout",
     "output_type": "stream",
     "text": [
      "--- 0.976294994354248 seconds ---\n",
      "--- 1.4782564640045166 seconds ---\n",
      "(1000, 32)\n"
     ]
    }
   ],
   "source": [
    "nRows = 31\n",
    "\n",
    "def simulator(alpha=0, s=0, n=1000):\n",
    "    nslots = nRows+1 # Number of positions for marble in last row\n",
    "    counts = np.zeros(nslots)\n",
    "    \n",
    "    nRight = np.zeros(n, dtype = int)\n",
    "    M = np.zeros(n)\n",
    "    \n",
    "    rands = np.random.uniform(size = (n,nRows))\n",
    "\n",
    "    for i in range(nRows):\n",
    "        thres = 0.5 + alpha*M + s\n",
    "\n",
    "        right = rands[:,i]<=thres\n",
    "        nRight += right\n",
    "        M = right - 0.5\n",
    "\n",
    "    for i in range(nslots):\n",
    "        counts[i] = (nRight == i).sum()        \n",
    "    return counts\n",
    "\n",
    "def simulator2(alpha=0, s=0, n=1000):\n",
    "    \n",
    "#     assert len(alpha) == len(s)\n",
    "    alpha = alpha.reshape(-1,1)\n",
    "    s = s.reshape(-1,1)\n",
    "    \n",
    "    nslots = nRows+1 # Number of positions for marble in last row\n",
    "    counts = np.zeros((len(alpha), nslots))\n",
    "    nRight = np.zeros((len(alpha), n), dtype = int)\n",
    "    M = np.zeros((len(alpha), n))\n",
    "    \n",
    "    rands = np.random.uniform(size = (len(alpha),n,nRows))\n",
    "    for i in range(nRows):\n",
    "        thres = 0.5 + np.multiply(alpha,M) + s\n",
    "\n",
    "        right = rands[:,:,i]<=thres\n",
    "        nRight += right\n",
    "        M = right - 0.5\n",
    "\n",
    "    for i in range(nslots):\n",
    "        counts[:,i] = (nRight == i).sum(axis=1)\n",
    "        \n",
    "    return counts\n",
    "   \n",
    "alpha = 0.2\n",
    "s = 0.1\n",
    "start_time = time.time()\n",
    "for i in range(1000):\n",
    "    simulator(alpha, s, n=1000)\n",
    "print(\"--- %s seconds ---\" % (time.time() - start_time))\n",
    "\n",
    "\n",
    "alpha = np.random.rand(1000)*0.2\n",
    "s = np.random.rand(1000)*0.1\n",
    "start_time = time.time()\n",
    "counts = simulator2(alpha, s, n=1000)\n",
    "\n",
    "print(\"--- %s seconds ---\" % (time.time() - start_time))\n",
    "print(counts.shape)\n",
    "    "
   ]
  },
  {
   "cell_type": "code",
   "execution_count": 4,
   "metadata": {},
   "outputs": [
    {
     "name": "stdout",
     "output_type": "stream",
     "text": [
      "[[0.04930741 0.38572278 0.08192403 0.93131354]\n",
      " [0.16390611 0.0545504  0.59254675 0.6139933 ]\n",
      " [0.15351785 0.80234896 0.70206706 0.14791498]\n",
      " [0.23420766 0.18168861 0.07740783 0.3211046 ]]\n",
      "[[0.04930741 0.38572278 0.08192403 0.93131354]\n",
      " [0.32781221 0.10910079 1.1850935  1.22798661]\n",
      " [0.46055355 2.40704689 2.10620117 0.44374495]\n",
      " [0.93683064 0.72675442 0.30963131 1.2844184 ]]\n",
      "[[1.04930741 1.38572278 1.08192403 1.93131354]\n",
      " [2.32781221 2.10910079 3.1850935  3.22798661]\n",
      " [3.46055355 5.40704689 5.10620117 3.44374495]\n",
      " [4.93683064 4.72675442 4.30963131 5.2844184 ]]\n"
     ]
    }
   ],
   "source": [
    "a = np.array([1,2,3,4])\n",
    "b = np.random.uniform(size=(4,4))\n",
    "print(b)\n",
    "print(np.multiply(a.reshape(-1,1),b))\n",
    "print(np.multiply(a.reshape(-1,1),b)+a.reshape(-1,1))"
   ]
  },
  {
   "cell_type": "code",
   "execution_count": 5,
   "metadata": {},
   "outputs": [
    {
     "name": "stdout",
     "output_type": "stream",
     "text": [
      "Generating training data\n",
      "0.25003240397712817\n"
     ]
    },
    {
     "data": {
      "application/vnd.jupyter.widget-view+json": {
       "model_id": "ea34cc2c58cc4421ac142fc2753438c5",
       "version_major": 2,
       "version_minor": 0
      },
      "text/plain": [
       "HBox(children=(IntProgress(value=0, max=300000), HTML(value='')))"
      ]
     },
     "metadata": {},
     "output_type": "display_data"
    },
    {
     "name": "stdout",
     "output_type": "stream",
     "text": [
      "\n"
     ]
    }
   ],
   "source": [
    "def gen_data(nData, alpha = None):\n",
    "    alphaData = np.random.rand(nData)*0.5\n",
    "    sData = np.random.rand(nData)*0.5 - 0.25\n",
    "    y = np.zeros((nData, 2))\n",
    "    X = np.zeros((nData, nRows+1))\n",
    "    print(np.mean(alphaData))\n",
    "    for i in tqdm(range(nData)):\n",
    "        s = sData[i]\n",
    "        y[i,1] = s\n",
    "        if alpha != None:\n",
    "            y[i,0] = alpha\n",
    "            X[i,:] = simulator(alpha, s)\n",
    "        else:\n",
    "            a = alphaData[i]\n",
    "            y[i,0] = a\n",
    "            X[i,:] = simulator(a, s)     \n",
    "    return X, y # return experiments and labels\n",
    "\n",
    "\n",
    "n_data = 300000\n",
    "data_file = f'saved_structures/train_data_n={n_data}.p'\n",
    "\n",
    "if os.path.isfile(data_file):\n",
    "    print('Loading pickled training data')\n",
    "    data = pickle.load(open( data_file, \"rb\" ))\n",
    "    X, y = data\n",
    "else:\n",
    "    print('Generating training data')\n",
    "    X,y = gen_data(n_data)\n",
    "    data = (X,y)\n",
    "    pickle.dump(data, open(data_file, \"wb\"))"
   ]
  },
  {
   "cell_type": "markdown",
   "metadata": {},
   "source": [
    "# Task 2: NN"
   ]
  },
  {
   "cell_type": "code",
   "execution_count": 6,
   "metadata": {},
   "outputs": [
    {
     "name": "stdout",
     "output_type": "stream",
     "text": [
      "Model: \"sequential\"\n",
      "_________________________________________________________________\n",
      "Layer (type)                 Output Shape              Param #   \n",
      "=================================================================\n",
      "dense (Dense)                (None, 32)                1056      \n",
      "_________________________________________________________________\n",
      "dense_1 (Dense)              (None, 2)                 66        \n",
      "=================================================================\n",
      "Total params: 1,122\n",
      "Trainable params: 1,122\n",
      "Non-trainable params: 0\n",
      "_________________________________________________________________\n"
     ]
    }
   ],
   "source": [
    "def nn_model(X):\n",
    "    input_shape = (X.shape[1],)\n",
    "    model = keras.Sequential()\n",
    "    # model.add(keras.Input(shape=input_shape))\n",
    "    model.add(layers.Dense(32, input_shape=input_shape, activation=\"relu\", kernel_initializer='random_normal'))\n",
    "#     model.add(layers.Dense(16, activation=\"relu\", kernel_initializer='random_normal'))\n",
    "#     model.add(layers.Dense(8, activation=\"relu\", kernel_initializer='random_normal'))\n",
    "    # model.add(layers.Dense(3, activation=\"relu\"))\n",
    "    model.add(layers.Dense(\n",
    "              2,  \n",
    "#               kernel_initializer=initializers.RandomNormal(stddev=0.01), \n",
    "#               bias_initializer=initializers.RandomNormal(mean=1.0, stddev=0.1)\n",
    "              bias_initializer=initializers.Zeros()\n",
    "    ))\n",
    "    #opt = keras.optimizers.Adam(learning_rate=0.1)\n",
    "    model.compile(loss='mean_squared_error', optimizer=\"adam\", metrics=['mean_absolute_error'])\n",
    "    return model\n",
    "model = nn_model(X)\n",
    "model.summary()"
   ]
  },
  {
   "cell_type": "code",
   "execution_count": 8,
   "metadata": {
    "scrolled": false
   },
   "outputs": [
    {
     "name": "stdout",
     "output_type": "stream",
     "text": [
      "Training NN and saving model and history\n",
      "1000.0\n",
      "WARNING:tensorflow:Callbacks method `on_train_batch_end` is slow compared to the batch time (batch time: 0.0026s vs `on_train_batch_end` time: 0.0341s). Check your callbacks.\n",
      "WARNING:tensorflow:From /home/eric/miniconda3/envs/physics/lib/python3.7/site-packages/tensorflow/python/training/tracking/tracking.py:111: Model.state_updates (from tensorflow.python.keras.engine.training) is deprecated and will be removed in a future version.\n",
      "Instructions for updating:\n",
      "This property should not be used in TensorFlow 2.0, as updates are applied automatically.\n",
      "WARNING:tensorflow:From /home/eric/miniconda3/envs/physics/lib/python3.7/site-packages/tensorflow/python/training/tracking/tracking.py:111: Layer.updates (from tensorflow.python.keras.engine.base_layer) is deprecated and will be removed in a future version.\n",
      "Instructions for updating:\n",
      "This property should not be used in TensorFlow 2.0, as updates are applied automatically.\n",
      "INFO:tensorflow:Assets written to: saved_structures/nn_model_n=300000/assets\n"
     ]
    }
   ],
   "source": [
    "model_file = f'saved_structures/nn_model_n={n_data}'\n",
    "history_file = f'saved_structures/training_history_n={n_data}.p'\n",
    "\n",
    "if os.path.exists(model_file) and os.path.isfile(history_file):\n",
    "    print('Loading models and history')\n",
    "    model = keras.models.load_model(model_file)\n",
    "    mae_history = pickle.load(open( history_file, \"rb\" ))\n",
    "    \n",
    "else: \n",
    "    print('Training NN and saving model and history')\n",
    "    N = X[0,:].sum()\n",
    "    print(N)\n",
    "    log_dir = \"logs/fit/\" + datetime.datetime.now().strftime(\"%Y%m%d-%H%M%S\")\n",
    "    tensorboard_callback = tf.keras.callbacks.TensorBoard(log_dir=log_dir, histogram_freq=1)\n",
    "    history = model.fit(x=X/N,\n",
    "                        y=y,\n",
    "                        epochs=200,\n",
    "                        batch_size=1024,\n",
    "                        validation_split=0.7,\n",
    "                        verbose=0,\n",
    "                        callbacks=[tensorboard_callback])\n",
    "    model.save(model_file)\n",
    "    mae_history = history.history\n",
    "    pickle.dump(mae_history, open(history_file, \"wb\") )"
   ]
  },
  {
   "cell_type": "code",
   "execution_count": 9,
   "metadata": {},
   "outputs": [
    {
     "name": "stdout",
     "output_type": "stream",
     "text": [
      "dict_keys(['loss', 'mean_absolute_error', 'val_loss', 'val_mean_absolute_error'])\n",
      "0.019287915900349617\n"
     ]
    },
    {
     "data": {
      "image/png": "[encoded data removed]",
      "text/plain": [
       "<Figure size 864x432 with 2 Axes>"
      ]
     },
     "metadata": {
      "needs_background": "light"
     },
     "output_type": "display_data"
    }
   ],
   "source": [
    "# Plot training history\n",
    "print(mae_history.keys())\n",
    "key = 'mean_absolute_error'\n",
    "epochs = range(1, len(mae_history[key])+1)\n",
    "\n",
    "fig, axs = plt.subplots(1, 2, figsize=(12,6))\n",
    "\n",
    "axs[0].plot(epochs, mae_history['val_loss'], label='Val loss')\n",
    "axs[0].plot(epochs, mae_history['loss'], label='train loss')\n",
    "axs[0].set_xlabel('Epochs')\n",
    "axs[0].set_ylabel('Loss, MSE')\n",
    "axs[0].legend(loc='best')\n",
    "axs[0].set_yscale('log')\n",
    "\n",
    "axs[1].plot(epochs, mae_history['val_'+key], label='Val mae')\n",
    "axs[1].plot(epochs, mae_history[key], label='train mae')\n",
    "axs[1].set_xlabel('Epochs')\n",
    "axs[1].set_ylabel('MAE')\n",
    "axs[1].legend(loc='best')\n",
    "axs[1].set_yscale('log')\n",
    "axs[1].grid()\n",
    "\n",
    "plt.tight_layout()\n",
    "\n",
    "print(mae_history['val_'+key][-1])"
   ]
  },
  {
   "cell_type": "markdown",
   "metadata": {},
   "source": [
    "## Task3"
   ]
  },
  {
   "cell_type": "code",
   "execution_count": 102,
   "metadata": {},
   "outputs": [
    {
     "name": "stdout",
     "output_type": "stream",
     "text": [
      "0.2541778174868209\n"
     ]
    },
    {
     "data": {
      "application/vnd.jupyter.widget-view+json": {
       "model_id": "cd98e32735db48eabd04b8f664778d0b",
       "version_major": 2,
       "version_minor": 0
      },
      "text/plain": [
       "HBox(children=(IntProgress(value=0), HTML(value='')))"
      ]
     },
     "metadata": {},
     "output_type": "display_data"
    },
    {
     "name": "stdout",
     "output_type": "stream",
     "text": [
      "\n",
      "0.24696250693349142\n"
     ]
    },
    {
     "data": {
      "application/vnd.jupyter.widget-view+json": {
       "model_id": "019008faff9d4c0cb37258b10e8d56fa",
       "version_major": 2,
       "version_minor": 0
      },
      "text/plain": [
       "HBox(children=(IntProgress(value=0), HTML(value='')))"
      ]
     },
     "metadata": {},
     "output_type": "display_data"
    },
    {
     "name": "stdout",
     "output_type": "stream",
     "text": [
      "\n",
      "0.029222767466555322 0.01958733052032256\n",
      "0.002598946496249946 0.0011477780189393205\n"
     ]
    },
    {
     "data": {
      "image/png": "[encoded data removed]",
      "text/plain": [
       "<Figure size 576x432 with 1 Axes>"
      ]
     },
     "metadata": {
      "needs_background": "light"
     },
     "output_type": "display_data"
    }
   ],
   "source": [
    "nData = 100\n",
    "    \n",
    "y,labels = gen_data(nData)\n",
    "\n",
    "theta = model.predict(y/1000)\n",
    "error = theta - labels\n",
    "\n",
    "alpha_mean = np.mean(error[:,0])\n",
    "alpha_std = np.std(error[:,0])\n",
    "s_mean = np.mean(error[:,1])\n",
    "s_std = np.std(error[:,1])\n",
    "\n",
    "y_obs,_ = gen_data(nData, alpha = 0.2)\n",
    "print(alpha_std, s_std)\n",
    "print(alpha_mean, s_mean)\n",
    "\n",
    "fig, ax = plt.subplots(figsize=(8,6))\n",
    "ax.scatter(x=error[:,0], y=error[:,1])\n",
    "ax.axhline(s_mean)\n",
    "ax.axvline(alpha_mean)\n",
    "ax.set_xlabel(r'$\\alpha$ error')\n",
    "ax.set_ylabel(r'$s$ error')\n",
    "plt.tight_layout()"
   ]
  },
  {
   "cell_type": "code",
   "execution_count": 103,
   "metadata": {},
   "outputs": [
    {
     "data": {
      "text/plain": [
       "[<matplotlib.lines.Line2D at 0x7f8ddbffc210>]"
      ]
     },
     "execution_count": 103,
     "metadata": {},
     "output_type": "execute_result"
    },
    {
     "data": {
      "image/png": "[encoded data removed]",
      "text/plain": [
       "<Figure size 432x288 with 1 Axes>"
      ]
     },
     "metadata": {
      "needs_background": "light"
     },
     "output_type": "display_data"
    },
    {
     "data": {
      "image/png": "[encoded data removed]",
      "text/plain": [
       "<Figure size 576x432 with 1 Axes>"
      ]
     },
     "metadata": {
      "needs_background": "light"
     },
     "output_type": "display_data"
    }
   ],
   "source": [
    "##         \n",
    "y_ob = y_obs[4,:]\n",
    "theta_m = model.predict(y_ob.reshape(1,32)/1000)[0]\n",
    "\n",
    "s_m = theta_m[1]\n",
    "alpha_m = theta_m[0]\n",
    "s_star = np.random.normal(loc = s_m, scale  = s_std)\n",
    "\n",
    "alpha_star = np.random.rand()*0.5\n",
    "y_star = simulator(alpha_star, s_star)\n",
    "\n",
    "plt.plot(y_star)\n",
    "plt.plot(y_ob)\n",
    "\n",
    "n = 40\n",
    "theta_pred = np.zeros((n,2))\n",
    "stds = np.linspace(0,100,n)\n",
    "for i, std in enumerate(stds):\n",
    "    y = y_ob + np.random.normal(size = 32 ,loc = 0, scale = std)\n",
    "    theta_pred[i,:] = model.predict(y.reshape(1,32)/1000)[0]\n",
    "\n",
    "\n",
    "fig,ax = plt.subplots(figsize = (8,6))\n",
    "ax.plot(stds, theta_pred[:,0]-0.2)\n"
   ]
  },
  {
   "cell_type": "code",
   "execution_count": 169,
   "metadata": {
    "scrolled": true
   },
   "outputs": [
    {
     "data": {
      "application/vnd.jupyter.widget-view+json": {
       "model_id": "3338a0a3455f4d2f8bfc732f56dec6c2",
       "version_major": 2,
       "version_minor": 0
      },
      "text/plain": [
       "HBox(children=(IntProgress(value=1, bar_style='info', max=1), HTML(value='')))"
      ]
     },
     "metadata": {},
     "output_type": "display_data"
    },
    {
     "name": "stdout",
     "output_type": "stream",
     "text": [
      "\n",
      "Acceptance ratio: 0.0214\n",
      "Accepted: 107\n"
     ]
    }
   ],
   "source": [
    "def kernel(y, y_obs, h = 0.1, statistic = \"KL\"):\n",
    "    N = y_obs.sum()\n",
    "    if statistic == \"KL\":\n",
    "        y_o = np.tile(y_obs, reps=(y.shape[0],1))\n",
    "        entrop = entropy(pk = y, qk = y_o, axis=1)\n",
    "        x = entrop/h\n",
    "    elif statistic == \"mean\":\n",
    "        grid = np.arange(0,32)\n",
    "        y_mean =(y*grid).sum(axis=1)/N\n",
    "        y_obs_mean = (y_obs*grid).sum()/N\n",
    "        x = np.abs((y_mean - y_obs_mean))/h\n",
    "    elif statistic == \"euc\":\n",
    "        deltasq = ((y-y_obs)/N)**2\n",
    "        x = np.sqrt(deltasq.sum(axis=1))/h\n",
    "    elif statistic == \"NN\":\n",
    "        theta_obs = model.predict(y_obs.reshape(1,32)/N)[0]\n",
    "        theta = model.predict(y/N)\n",
    "        delta = (theta - theta_obs) \n",
    "        x = np.sqrt(delta[:,0]**2 + delta[:,1]**2)/h\n",
    "    elif statistic == \"WSD\":\n",
    "        x = np.zeros(y.shape[0])\n",
    "        for i, y_i in enumerate(y):\n",
    "            x[i] = sc.stats.wasserstein_distance(y_i,y_obs)/h\n",
    "    elif statistic == \"ED\":\n",
    "        x = np.zeros(y.shape[0])\n",
    "        for i, y_i in enumerate(y):\n",
    "            x[i] = sc.stats.energy_distance(y_i,y_obs)/h\n",
    "    \n",
    "    sigma = 1/np.sqrt(2*np.pi) # Set sigma so that K(0) = 1 \n",
    "    return np.exp(-x**2/(2*sigma**2))/np.sqrt(2*np.pi*sigma**2)\n",
    "\n",
    "\n",
    "def ABC_MCMC(y_obs, gen_alpha = \"prior\", max_iter = 50, sim_iter=1, s_std = 0.01, alpha_std = 0.01):\n",
    "    alpha = []\n",
    "    N = y_obs[0,:].sum()\n",
    "    # Multa samman kern för alla y_obs? Som vi gör i vanliga fall med likelihood\n",
    "    for i, y_ob in tqdm(enumerate(y_obs)):\n",
    "        theta_m = model.predict(y_ob.reshape(1,32)/N)[0]\n",
    "        s_m = theta_m[1]\n",
    "        alpha_m = theta_m[0]\n",
    "        \n",
    "        s_star = np.random.normal(loc = s_m, scale  = s_std, size=max_iter)\n",
    "        alpha_star = np.random.uniform(low=0.0, high=0.5, size=max_iter)\n",
    "\n",
    "        y_star = simulator2(alpha_star, s_star, n=1000*sim_iter)\n",
    "        y_star /= sim_iter\n",
    "        kern = kernel(y_star, y_ob, h=0.05, statistic = \"euc\")\n",
    "        \n",
    "        p_acc = kern\n",
    "        for i, p in enumerate(p_acc):\n",
    "            if np.random.rand() < p:\n",
    "                alpha.append(alpha_star[i])\n",
    "    return np.array(alpha) \n",
    "\n",
    "max_iter = 50\n",
    "sim_iter = 1\n",
    "alpha = ABC_MCMC(y_obs, max_iter=max_iter, sim_iter=sim_iter, s_std = s_std, alpha_std=alpha_std)\n",
    "print(f'Acceptance ratio: {alpha.shape[0] / (y_obs.shape[0]*max_iter)}')\n",
    "print(f'Accepted: {alpha.shape[0]}')"
   ]
  },
  {
   "cell_type": "code",
   "execution_count": 170,
   "metadata": {
    "scrolled": false
   },
   "outputs": [
    {
     "name": "stdout",
     "output_type": "stream",
     "text": [
      "[0.07473826 0.32578401]\n"
     ]
    },
    {
     "name": "stderr",
     "output_type": "stream",
     "text": [
      "/home/eric/miniconda3/envs/physics/lib/python3.7/site-packages/arviz/stats/stats.py:338: UserWarning: hpd will be deprecated Please replace hdi\n",
      "  (\"hpd will be deprecated \" \"Please replace hdi\"),\n"
     ]
    },
    {
     "data": {
      "text/plain": [
       "<matplotlib.legend.Legend at 0x7f8db6ee8d90>"
      ]
     },
     "execution_count": 170,
     "metadata": {},
     "output_type": "execute_result"
    },
    {
     "data": {
      "image/png": "[encoded data removed]",
      "text/plain": [
       "<Figure size 576x432 with 1 Axes>"
      ]
     },
     "metadata": {
      "needs_background": "light"
     },
     "output_type": "display_data"
    }
   ],
   "source": [
    "fig,ax = plt.subplots(figsize = (8,6))\n",
    "ax.hist(alpha ,bins = 41, density = True)\n",
    "\n",
    "hdi = pymc3.stats.hpd(alpha, 0.90)\n",
    "print(hdi)\n",
    "ymax = ax.get_ylim()[1]\n",
    "ax.plot(hdi, [ymax/10, ymax/10], c='k', label='90% HPD')\n",
    "ax.axvline(np.mean(alpha), c='r', label=r'$\\overline{w}$'+f'={np.mean(alpha):.4f}')\n",
    "ax.text(hdi[0], ymax/9, s=f'{hdi[0]:.2f}')\n",
    "ax.text(hdi[1], ymax/9, s=f'{hdi[1]:.2f}')\n",
    "plt.tight_layout()\n",
    "ax.set_xlabel(r'$w$')\n",
    "ax.legend(loc='best')\n",
    "#plt.savefig('figures_task2/w_posterior.png')"
   ]
  },
  {
   "cell_type": "code",
   "execution_count": 129,
   "metadata": {},
   "outputs": [
    {
     "name": "stdout",
     "output_type": "stream",
     "text": [
      "(4, 4)\n"
     ]
    }
   ],
   "source": [
    "a = np.array([1,2,3,4])\n",
    "# print(np.repeat(a.reshape(-1,1), 4, axis=1))\n",
    "a = np.tile(a, (4,1))\n",
    "print(a.shape)"
   ]
  },
  {
   "cell_type": "markdown",
   "metadata": {},
   "source": [
    "Best result CI 0.14-0.26, max_iter = 1000, h = 0.05"
   ]
  },
  {
   "cell_type": "code",
   "execution_count": null,
   "metadata": {},
   "outputs": [],
   "source": [
    "def ABC_MCMC(y_obs, gen_alpha = \"prior\", max_iter = 50, sim_iter=1, s_std = 0.01, alpha_std = 0.01):\n",
    "    alpha = []\n",
    "    N = y_obs[0,:].sum()\n",
    "    for i, y_ob in tqdm(enumerate(y_obs)):\n",
    "        theta_m = model.predict(y_ob.reshape(1,32)/N)[0]\n",
    "        s_m = theta_m[1]\n",
    "        alpha_m = theta_m[0]\n",
    "        \n",
    "        \n",
    "        \n",
    "        for j in range(max_iter):\n",
    "#             start_time = time.time()\n",
    "            s_star = np.random.normal(loc = s_m, scale  = s_std)\n",
    "            \n",
    "            if gen_alpha == \"NN\":\n",
    "                # Use NN for alpha\n",
    "                alpha_star = np.random.normal(loc = alpha_m, scale  = alpha_std)\n",
    "                y_star = simulator(alpha_star, s_star)\n",
    "                kern = kernel(y_star, y_ob)\n",
    "\n",
    "                norm = sc.stats.norm(loc=alpha_m, scale = alpha_std)\n",
    "                M1 = norm.pdf(0)\n",
    "                M2 = norm.pdf(0.5)\n",
    "                M = 2*max((1/M1,1/M2))*1\n",
    "                M=1\n",
    "\n",
    "                p_acc = kern*2/(M*norm.pdf(alpha_star))\n",
    "                #print(p_acc, M, M1, M2)\n",
    "                \n",
    "            else:\n",
    "                # Use prior for alpha\n",
    "                alpha_star = np.random.rand()*0.5  \n",
    "                y_star = simulator(alpha_star, s_star, n=1000*sim_iter)\n",
    "                y_star /= sim_iter\n",
    "#                 start_time2 = time.time()\n",
    "                kern = kernel(y_star, y_ob, h=0.05, statistic = \"NN\")\n",
    "#                 print(\"--- %s seconds ---\" % (time.time() - start_time2))\n",
    "                p_acc = kern\n",
    "            \n",
    "            if(np.random.rand() < p_acc):\n",
    "                alpha.append(alpha_star) \n",
    "#             print(\"--- %s seconds ---\" % (time.time() - start_time))\n",
    "    return np.array(alpha) "
   ]
  }
 ],
 "metadata": {
  "kernelspec": {
   "display_name": "Python 3",
   "language": "python",
   "name": "python3"
  },
  "language_info": {
   "codemirror_mode": {
    "name": "ipython",
    "version": 3
   },
   "file_extension": ".py",
   "mimetype": "text/x-python",
   "name": "python",
   "nbconvert_exporter": "python",
   "pygments_lexer": "ipython3",
   "version": "3.7.5"
  }
 },
 "nbformat": 4,
 "nbformat_minor": 4
}
