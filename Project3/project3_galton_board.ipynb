{
 "cells": [
  {
   "cell_type": "code",
   "execution_count": 2,
   "metadata": {},
   "outputs": [],
   "source": [
    "# Imports\n",
    "import os\n",
    "import pickle\n",
    "\n",
    "import numpy as np\n",
    "import matplotlib.pyplot as plt\n",
    "import scipy as sc\n",
    "from scipy.stats import entropy\n",
    "import pymc3\n",
    "\n",
    "\n",
    "import board\n",
    "\n",
    "import time\n",
    "\n",
    "# Keras\n",
    "import tensorflow as tf\n",
    "from tensorflow import keras\n",
    "from tensorflow.keras import layers\n",
    "from tensorflow.keras.layers import Dense\n",
    "\n",
    "\n",
    "from tqdm.notebook import tqdm\n",
    "\n",
    "# Set plot params\n",
    "plt.rc('font', size=18)          # controls default text sizes\n",
    "plt.rc('axes', titlesize=18)     # fontsize of the axes title\n",
    "plt.rc('axes', labelsize=18)     # fontsize of the x and y labels\n",
    "plt.rc('xtick', labelsize=18)    # fontsize of the tick labels\n",
    "plt.rc('ytick', labelsize=18)    # fontsize of the tick labels\n",
    "plt.rc('legend', fontsize=18)    # legend fontsize"
   ]
  },
  {
   "cell_type": "code",
   "execution_count": 3,
   "metadata": {},
   "outputs": [
    {
     "name": "stdout",
     "output_type": "stream",
     "text": [
      "--- 0.06787252426147461 seconds ---\n",
      "[  0.   0.   0.   0.   0.   0.   0.   0.   1.   1.   0.   2.   8.   5.\n",
      "  14.  31.  45.  61.  62.  82.  76. 102. 121.  99. 107.  66.  48.  39.\n",
      "  19.   7.   2.   2.]\n",
      "1000.0\n"
     ]
    }
   ],
   "source": [
    "start_time = time.time()\n",
    "n = board.experiment()\n",
    "print(\"--- %s seconds ---\" % (time.time() - start_time))\n",
    "print(n)\n",
    "print(np.sum(n))"
   ]
  },
  {
   "cell_type": "markdown",
   "metadata": {},
   "source": [
    "# Task 1: Simulator"
   ]
  },
  {
   "cell_type": "code",
   "execution_count": 4,
   "metadata": {},
   "outputs": [
    {
     "name": "stdout",
     "output_type": "stream",
     "text": [
      "[  0.   0.   0.   0.   0.   0.   1.   2.   4.   6.  11.  34.  66. 100.\n",
      " 121. 147. 130. 141.  97.  62.  49.  15.   7.   5.   2.   0.   0.   0.\n",
      "   0.   0.   0.   0.]\n",
      "--- 0.01122283935546875 seconds ---\n"
     ]
    }
   ],
   "source": [
    "nRows = 31\n",
    "\n",
    "def simulator(alpha=0, s=0, n=1000):\n",
    "    nslots = nRows+1 # Number of positions for marble in last row\n",
    "    counts = np.zeros(nslots)\n",
    "    \n",
    "    nRight = np.zeros(n, dtype = int)\n",
    "    M = np.zeros(n)\n",
    "    \n",
    "    rands = np.random.uniform(size = (n,nRows))\n",
    "\n",
    "    for i in range(nRows):\n",
    "        thres = 0.5 + alpha*M + s\n",
    "\n",
    "        right = rands[:,i]<=thres\n",
    "        nRight += right\n",
    "        M = 0.5 - right\n",
    "\n",
    "    for i in range(nslots):\n",
    "        counts[i] = (nRight == i).sum()\n",
    "        \n",
    "    return counts\n",
    "   \n",
    "    \n",
    "start_time = time.time()\n",
    "print(simulator())\n",
    "print(\"--- %s seconds ---\" % (time.time() - start_time))\n",
    "    \n",
    "    "
   ]
  },
  {
   "cell_type": "code",
   "execution_count": 5,
   "metadata": {},
   "outputs": [
    {
     "name": "stdout",
     "output_type": "stream",
     "text": [
      "Generating training data\n"
     ]
    },
    {
     "data": {
      "application/vnd.jupyter.widget-view+json": {
       "model_id": "f6b82146144144ee9ef0fecf9f334816",
       "version_major": 2,
       "version_minor": 0
      },
      "text/plain": [
       "HBox(children=(HTML(value=''), FloatProgress(value=0.0, max=300000.0), HTML(value='')))"
      ]
     },
     "metadata": {},
     "output_type": "display_data"
    },
    {
     "name": "stdout",
     "output_type": "stream",
     "text": [
      "\n"
     ]
    }
   ],
   "source": [
    "def gen_data(nData, alpha = None):\n",
    "\n",
    "    alphaData = np.random.rand(nData)*0.5\n",
    "    sData = np.random.rand(nData)*0.5 - 0.25\n",
    "    y = np.zeros((nData, 2))\n",
    "    X = np.zeros((nData, nRows+1))\n",
    "\n",
    "    for i in tqdm(range(nData)):\n",
    "        if alpha != None:\n",
    "            y[i,0] = alpha\n",
    "        else:\n",
    "            alpha = alphaData[i]\n",
    "            y[i,0] = alpha\n",
    "            \n",
    "        s = sData[i]\n",
    "        y[i,1] = s\n",
    "        X[i,:] = simulator(alpha, s)\n",
    "    return X, y # return experiments and labels\n",
    "\n",
    "\n",
    "n_data = 300000\n",
    "data_file = f'saved_structures/train_data_n={n_data}.p'\n",
    "\n",
    "if os.path.isfile(data_file):\n",
    "    print('Loading pickled training data')\n",
    "    data = pickle.load(open( data_file, \"rb\" ))\n",
    "    X, y = data\n",
    "else:\n",
    "    print('Generating training data')\n",
    "    X,y = gen_data(n_data)\n",
    "    data = (X,y)\n",
    "    pickle.dump(data, open(data_file, \"wb\"))"
   ]
  },
  {
   "cell_type": "markdown",
   "metadata": {},
   "source": [
    "# Task 2: NN"
   ]
  },
  {
   "cell_type": "code",
   "execution_count": 6,
   "metadata": {},
   "outputs": [
    {
     "name": "stdout",
     "output_type": "stream",
     "text": [
      "Model: \"sequential\"\n",
      "_________________________________________________________________\n",
      "Layer (type)                 Output Shape              Param #   \n",
      "=================================================================\n",
      "dense (Dense)                (None, 32)                1056      \n",
      "_________________________________________________________________\n",
      "dense_1 (Dense)              (None, 16)                528       \n",
      "_________________________________________________________________\n",
      "dense_2 (Dense)              (None, 8)                 136       \n",
      "_________________________________________________________________\n",
      "dense_3 (Dense)              (None, 2)                 18        \n",
      "=================================================================\n",
      "Total params: 1,738\n",
      "Trainable params: 1,738\n",
      "Non-trainable params: 0\n",
      "_________________________________________________________________\n"
     ]
    }
   ],
   "source": [
    "def nn_model(X):\n",
    "    input_shape = (X.shape[1],)\n",
    "    model = keras.Sequential()\n",
    "    # model.add(keras.Input(shape=input_shape))\n",
    "    model.add(layers.Dense(32, input_shape=input_shape, activation=\"relu\", kernel_initializer='random_normal'))\n",
    "    model.add(layers.Dense(16, activation=\"relu\", kernel_initializer='random_normal'))\n",
    "    model.add(layers.Dense(8, activation=\"relu\", kernel_initializer='random_normal'))\n",
    "    # model.add(layers.Dense(3, activation=\"relu\"))\n",
    "    model.add(layers.Dense(2))\n",
    "    \n",
    "    model.compile(loss='mean_squared_error', optimizer='adam', metrics=['mean_absolute_error'])\n",
    "    return model\n",
    "model = nn_model(X)\n",
    "model.summary()"
   ]
  },
  {
   "cell_type": "code",
   "execution_count": 7,
   "metadata": {},
   "outputs": [
    {
     "name": "stdout",
     "output_type": "stream",
     "text": [
      "Training NN and saving model and history\n",
      "WARNING:tensorflow:From /home/ericl/miniconda3/envs/physics/lib/python3.7/site-packages/tensorflow/python/training/tracking/tracking.py:111: Model.state_updates (from tensorflow.python.keras.engine.training) is deprecated and will be removed in a future version.\n",
      "Instructions for updating:\n",
      "This property should not be used in TensorFlow 2.0, as updates are applied automatically.\n",
      "WARNING:tensorflow:From /home/ericl/miniconda3/envs/physics/lib/python3.7/site-packages/tensorflow/python/training/tracking/tracking.py:111: Layer.updates (from tensorflow.python.keras.engine.base_layer) is deprecated and will be removed in a future version.\n",
      "Instructions for updating:\n",
      "This property should not be used in TensorFlow 2.0, as updates are applied automatically.\n",
      "INFO:tensorflow:Assets written to: saved_structures/nn_model_n=300000/assets\n"
     ]
    }
   ],
   "source": [
    "model_file = f'saved_structures/nn_model_n={n_data}'\n",
    "history_file = f'saved_structures/training_history_n={n_data}.p'\n",
    "\n",
    "if os.path.exists(model_file) and os.path.isfile(history_file):\n",
    "    print('Loading models and history')\n",
    "    model = keras.models.load_model(model_file)\n",
    "    mae_history = pickle.load(open( history_file, \"rb\" ))\n",
    "    \n",
    "else: \n",
    "    print('Training NN and saving model and history')\n",
    "    history = model.fit(x=X,\n",
    "                        y=y,\n",
    "                        epochs=500,\n",
    "                        batch_size=1024,\n",
    "                        validation_split=0.7,\n",
    "                        verbose=0)\n",
    "    model.save(model_file)\n",
    "    mae_history = history.history\n",
    "    pickle.dump(mae_history, open(history_file, \"wb\") )"
   ]
  },
  {
   "cell_type": "code",
   "execution_count": 8,
   "metadata": {},
   "outputs": [
    {
     "name": "stdout",
     "output_type": "stream",
     "text": [
      "dict_keys(['loss', 'mean_absolute_error', 'val_loss', 'val_mean_absolute_error'])\n",
      "0.0018725380068644881\n"
     ]
    },
    {
     "data": {
      "image/png": "[encoded data removed]",
      "text/plain": [
       "<Figure size 864x432 with 2 Axes>"
      ]
     },
     "metadata": {
      "needs_background": "light"
     },
     "output_type": "display_data"
    }
   ],
   "source": [
    "# Plot training history\n",
    "print(mae_history.keys())\n",
    "key = 'mean_absolute_error'\n",
    "epochs = range(1, len(mae_history[key])+1)\n",
    "\n",
    "fig, axs = plt.subplots(1, 2, figsize=(12,6))\n",
    "\n",
    "axs[0].plot(epochs, mae_history['val_loss'], label='Val loss')\n",
    "axs[0].plot(epochs, mae_history['loss'], label='train loss')\n",
    "axs[0].set_xlabel('Epochs')\n",
    "axs[0].set_ylabel('Loss, MSE')\n",
    "axs[0].legend(loc='best')\n",
    "axs[0].set_yscale('log')\n",
    "\n",
    "axs[1].plot(epochs, mae_history['val_'+key], label='Val mae')\n",
    "axs[1].plot(epochs, mae_history[key], label='train mae')\n",
    "axs[1].set_xlabel('Epochs')\n",
    "axs[1].set_ylabel('MAE')\n",
    "axs[1].legend(loc='best')\n",
    "axs[1].set_yscale('log')\n",
    "axs[1].grid()\n",
    "\n",
    "plt.tight_layout()\n",
    "\n",
    "\n",
    "print(mae_history['val_'+key][-1])"
   ]
  },
  {
   "cell_type": "markdown",
   "metadata": {},
   "source": [
    "## Task3"
   ]
  },
  {
   "cell_type": "code",
   "execution_count": 9,
   "metadata": {},
   "outputs": [
    {
     "data": {
      "application/vnd.jupyter.widget-view+json": {
       "model_id": "14cb2399e1ef47149e44f9376482a090",
       "version_major": 2,
       "version_minor": 0
      },
      "text/plain": [
       "HBox(children=(HTML(value=''), FloatProgress(value=0.0), HTML(value='')))"
      ]
     },
     "metadata": {},
     "output_type": "display_data"
    },
    {
     "name": "stdout",
     "output_type": "stream",
     "text": [
      "\n"
     ]
    },
    {
     "data": {
      "application/vnd.jupyter.widget-view+json": {
       "model_id": "0665886880694546af81fbb17e213d7b",
       "version_major": 2,
       "version_minor": 0
      },
      "text/plain": [
       "HBox(children=(HTML(value=''), FloatProgress(value=0.0), HTML(value='')))"
      ]
     },
     "metadata": {},
     "output_type": "display_data"
    },
    {
     "name": "stdout",
     "output_type": "stream",
     "text": [
      "\n",
      "0.006027933495261074 0.03076249835796549\n"
     ]
    }
   ],
   "source": [
    "def kernel(y, y_obs, h = 0.1, statistic = \"KL\"):\n",
    "    if statistic == \"KL\":\n",
    "        entrop = entropy(pk = y, qk = y_obs)\n",
    "    \n",
    "    x = entrop/h\n",
    "    sigma = 1/np.sqrt(2*np.pi) # choose the \n",
    "    return np.exp(-x**2/(2*sigma**2))/np.sqrt(2*np.pi*sigma**2)\n",
    "\n",
    "\n",
    "nData = 100\n",
    "    \n",
    "y,labels = gen_data(nData)\n",
    "\n",
    "theta = model.predict(y)\n",
    "error = theta - labels\n",
    "\n",
    "alpha_std = np.std(error[:,0])\n",
    "s_std = np.std(error[:,1])\n",
    "\n",
    "\n",
    "y_obs,_ = gen_data(nData, alpha = 0.2)\n",
    "print(alpha_std, s_std)"
   ]
  },
  {
   "cell_type": "code",
   "execution_count": 10,
   "metadata": {},
   "outputs": [
    {
     "data": {
      "application/vnd.jupyter.widget-view+json": {
       "model_id": "2d2944e5c92f45a8b400cb3b9e5b7e71",
       "version_major": 2,
       "version_minor": 0
      },
      "text/plain": [
       "HBox(children=(HTML(value=''), FloatProgress(value=1.0, bar_style='info', layout=Layout(width='20px'), max=1.0…"
      ]
     },
     "metadata": {},
     "output_type": "display_data"
    },
    {
     "name": "stdout",
     "output_type": "stream",
     "text": [
      "\n",
      "(15,)\n"
     ]
    }
   ],
   "source": [
    "def ABC_MCMC(y_obs, gen_alpha = \"prior\", max_iter = 50, s_std = 0.01, alpha_std = 0.01):\n",
    "    #gen_alpha = \"NN\"\n",
    "    alpha = []\n",
    "    for i, y_ob in tqdm(enumerate(y_obs)):\n",
    "\n",
    "        theta_m = model.predict(y_ob.reshape(1,32))[0]\n",
    "        s_m = theta_m[1]\n",
    "        alpha_m = theta_m[0]\n",
    "        \n",
    "    \n",
    "        for j in range(max_iter):\n",
    "#             start_time = time.time()\n",
    "            s_star = np.random.normal(loc = s_m, scale  = s_std)\n",
    "            \n",
    "            if gen_alpha == \"NN\":\n",
    "                alpha_star = np.random.normal(loc = alpha_m, scale  = alpha_std)\n",
    "                y_star = simulator(alpha_star, s_star)\n",
    "                kern = kernel(y_star, y_ob)\n",
    "\n",
    "                norm = sc.stats.norm(loc=alpha_m, scale = alpha_std)\n",
    "                M1 = norm.pdf(0)\n",
    "                M2 = norm.pdf(0.5)\n",
    "                M = 2*max((1/M1,1/M2))*1\n",
    "                M=1\n",
    "\n",
    "                p_acc = kern*2/(M*norm.pdf(alpha_star))\n",
    "                #print(p_acc, M, M1, M2)\n",
    "                \n",
    "            else:\n",
    "                alpha_star = np.random.rand()*0.5\n",
    "                \n",
    "#                 start_time2 = time.time()\n",
    "                y_star = simulator(alpha_star, s_star)\n",
    "#                 print(\"--- %s seconds ---\" % (time.time() - start_time2))\n",
    "                \n",
    "                kern = kernel(y_star, y_ob)\n",
    "                p_acc = kern\n",
    "            \n",
    "            if(np.random.rand() < p_acc):\n",
    "                alpha.append(alpha_star)\n",
    "                #break # ???\n",
    "#             print(\"--- %s seconds ---\" % (time.time() - start_time))\n",
    "            break\n",
    "    return np.array(alpha) \n",
    "\n",
    "alpha = ABC_MCMC(y_obs, s_std = s_std)\n",
    "print(alpha.shape)\n",
    "# print(alpha_star, s_star)\n",
    "\n",
    "# print(p_acc)"
   ]
  },
  {
   "cell_type": "code",
   "execution_count": 11,
   "metadata": {
    "scrolled": false
   },
   "outputs": [
    {
     "name": "stdout",
     "output_type": "stream",
     "text": [
      "[0.25782833 0.37583776]\n"
     ]
    },
    {
     "name": "stderr",
     "output_type": "stream",
     "text": [
      "/home/ericl/miniconda3/envs/physics/lib/python3.7/site-packages/arviz/stats/stats.py:338: UserWarning: hpd will be deprecated Please replace hdi\n",
      "  (\"hpd will be deprecated \" \"Please replace hdi\"),\n"
     ]
    },
    {
     "data": {
      "text/plain": [
       "<matplotlib.legend.Legend at 0x7fa8545d4e50>"
      ]
     },
     "execution_count": 11,
     "metadata": {},
     "output_type": "execute_result"
    },
    {
     "data": {
      "image/png": "[encoded data removed]",
      "text/plain": [
       "<Figure size 576x432 with 1 Axes>"
      ]
     },
     "metadata": {
      "needs_background": "light"
     },
     "output_type": "display_data"
    }
   ],
   "source": [
    "\n",
    "\n",
    "\n",
    "fig,ax = plt.subplots(figsize = (8,6))\n",
    "ax.hist(alpha ,bins = 21, density = True)\n",
    "\n",
    "hdi = pymc3.stats.hpd(alpha, 0.90)\n",
    "print(hdi)\n",
    "ymax = ax.get_ylim()[1]\n",
    "ax.plot(hdi, [ymax/10, ymax/10], c='k', label='90% HPD')\n",
    "ax.axvline(np.mean(alpha), c='r', label=r'$\\overline{w}$'+f'={np.mean(alpha):.4f}')\n",
    "ax.text(hdi[0], ymax/9, s=f'{hdi[0]:.2f}')\n",
    "ax.text(hdi[1], ymax/9, s=f'{hdi[1]:.2f}')\n",
    "plt.tight_layout()\n",
    "ax.set_xlabel(r'$w$')\n",
    "ax.legend(loc='best')\n",
    "#plt.savefig('figures_task2/w_posterior.png')"
   ]
  },
  {
   "cell_type": "code",
   "execution_count": null,
   "metadata": {},
   "outputs": [],
   "source": []
  }
 ],
 "metadata": {
  "kernelspec": {
   "display_name": "Python 3",
   "language": "python",
   "name": "python3"
  },
  "language_info": {
   "codemirror_mode": {
    "name": "ipython",
    "version": 3
   },
   "file_extension": ".py",
   "mimetype": "text/x-python",
   "name": "python",
   "nbconvert_exporter": "python",
   "pygments_lexer": "ipython3",
   "version": "3.7.8"
  }
 },
 "nbformat": 4,
 "nbformat_minor": 4
}
