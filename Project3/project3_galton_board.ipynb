{
 "cells": [
  {
   "cell_type": "code",
   "execution_count": 184,
   "metadata": {},
   "outputs": [],
   "source": [
    "# Imports\n",
    "import numpy as np\n",
    "import matplotlib.pyplot as plt\n",
    "import scipy as sc\n",
    "from scipy.stats import entropy\n",
    "import pymc3\n",
    "\n",
    "\n",
    "#import board\n",
    "\n",
    "import time\n",
    "\n",
    "# Keras\n",
    "import tensorflow as tf\n",
    "from tensorflow import keras\n",
    "from tensorflow.keras import layers\n",
    "from tensorflow.keras.layers import Dense\n",
    "\n",
    "\n",
    "from tqdm.notebook import tqdm"
   ]
  },
  {
   "cell_type": "code",
   "execution_count": 128,
   "metadata": {},
   "outputs": [
    {
     "name": "stdout",
     "output_type": "stream",
     "text": [
      "--- 0.06040239334106445 seconds ---\n",
      "[  0.   2.   3.  15.  16.  25.  44.  68.  90.  86.  90. 101.  86.  86.\n",
      "  87.  64.  43.  37.  27.  10.  10.   6.   2.   2.   0.   0.   0.   0.\n",
      "   0.   0.   0.   0.]\n",
      "1000.0\n"
     ]
    }
   ],
   "source": [
    "start_time = time.time()\n",
    "n = board.experiment()\n",
    "print(\"--- %s seconds ---\" % (time.time() - start_time))\n",
    "print(n)\n",
    "print(np.sum(n))"
   ]
  },
  {
   "cell_type": "markdown",
   "metadata": {},
   "source": [
    "# Task 1: Simulator"
   ]
  },
  {
   "cell_type": "code",
   "execution_count": 345,
   "metadata": {},
   "outputs": [
    {
     "name": "stdout",
     "output_type": "stream",
     "text": [
      "[  0.   0.   0.   0.   0.   0.   1.   1.   3.  10.  25.  37.  66.  84.\n",
      " 128. 129. 148. 110.  99.  75.  48.  21.  13.   2.   0.   0.   0.   0.\n",
      "   0.   0.   0.   0.]\n",
      "--- 0.0032906532287597656 seconds ---\n"
     ]
    }
   ],
   "source": [
    "nRows = 31\n",
    "\n",
    "def simulator(alpha=0, s=0, n=1000):\n",
    "    nslots = nRows+1 # Number of positions for marble in last row\n",
    "    counts = np.zeros(nslots)\n",
    "    \n",
    "    nRight = np.zeros(n, dtype = int)\n",
    "    M = np.zeros(n)\n",
    "    \n",
    "    rands = np.random.uniform(size = (n,nRows))\n",
    "\n",
    "    for i in range(nRows):\n",
    "        thres = 0.5 + alpha*M + s\n",
    "\n",
    "        right = rands[:,i]<=thres\n",
    "        nRight += right\n",
    "        M = 0.5 - right\n",
    "\n",
    "    for i in range(nslots):\n",
    "        counts[i] = (nRight == i).sum()\n",
    "        \n",
    "    return counts\n",
    "   \n",
    "    \n",
    "start_time = time.time()\n",
    "print(simulator())\n",
    "print(\"--- %s seconds ---\" % (time.time() - start_time))\n",
    "    \n",
    "    "
   ]
  },
  {
   "cell_type": "code",
   "execution_count": 207,
   "metadata": {},
   "outputs": [],
   "source": [
    "def gen_data(n_data, alpha = None):\n",
    "\n",
    "    alphaData = np.random.rand(nData)*0.5\n",
    "    sData = np.random.rand(nData)*0.5 - 0.25\n",
    "    y = np.zeros((nData, 2))\n",
    "    X = np.zeros((nData, nRows+1))\n",
    "\n",
    "    for i in range(nData):\n",
    "        if alpha != None:\n",
    "            y[i,0] = alpha\n",
    "        else:\n",
    "            alpha = alphaData[i]\n",
    "            y[i,0] = alpha\n",
    "            \n",
    "        s = sData[i]\n",
    "        y[i,1] = s\n",
    "        X[i,:] = simulator(alpha, s)\n",
    "    return X, y # return experiments and labels\n",
    "\n",
    "n_data = 1000\n",
    "X,y = gen_data(n_data)"
   ]
  },
  {
   "cell_type": "markdown",
   "metadata": {},
   "source": [
    "# Task 2: NN"
   ]
  },
  {
   "cell_type": "code",
   "execution_count": 6,
   "metadata": {},
   "outputs": [
    {
     "name": "stdout",
     "output_type": "stream",
     "text": [
      "WARNING:tensorflow:From /Users/kevinandersson/opt/miniconda3/envs/Physics-env/lib/python3.7/site-packages/tensorflow/python/ops/resource_variable_ops.py:435: colocate_with (from tensorflow.python.framework.ops) is deprecated and will be removed in a future version.\n",
      "Instructions for updating:\n",
      "Colocations handled automatically by placer.\n",
      "WARNING:tensorflow:From /Users/kevinandersson/opt/miniconda3/envs/Physics-env/lib/python3.7/site-packages/tensorflow/python/keras/utils/losses_utils.py:170: to_float (from tensorflow.python.ops.math_ops) is deprecated and will be removed in a future version.\n",
      "Instructions for updating:\n",
      "Use tf.cast instead.\n",
      "_________________________________________________________________\n",
      "Layer (type)                 Output Shape              Param #   \n",
      "=================================================================\n",
      "dense (Dense)                (None, 32)                1056      \n",
      "_________________________________________________________________\n",
      "dense_1 (Dense)              (None, 16)                528       \n",
      "_________________________________________________________________\n",
      "dense_2 (Dense)              (None, 8)                 136       \n",
      "_________________________________________________________________\n",
      "dense_3 (Dense)              (None, 2)                 18        \n",
      "=================================================================\n",
      "Total params: 1,738\n",
      "Trainable params: 1,738\n",
      "Non-trainable params: 0\n",
      "_________________________________________________________________\n"
     ]
    }
   ],
   "source": [
    "def nn_model(X):\n",
    "    input_shape = (X.shape[1],)\n",
    "    model = keras.Sequential()\n",
    "    # model.add(keras.Input(shape=input_shape))\n",
    "    model.add(layers.Dense(32, input_shape=input_shape, activation=\"relu\", kernel_initializer='random_normal'))\n",
    "    model.add(layers.Dense(16, activation=\"relu\", kernel_initializer='random_normal'))\n",
    "    model.add(layers.Dense(8, activation=\"relu\", kernel_initializer='random_normal'))\n",
    "    # model.add(layers.Dense(3, activation=\"relu\"))\n",
    "    model.add(layers.Dense(2))\n",
    "    \n",
    "    model.compile(loss='mean_squared_error', optimizer='adam', metrics=['mae'])\n",
    "    return model\n",
    "model = nn_model(X)\n",
    "model.summary()"
   ]
  },
  {
   "cell_type": "code",
   "execution_count": 7,
   "metadata": {},
   "outputs": [
    {
     "name": "stdout",
     "output_type": "stream",
     "text": [
      "WARNING:tensorflow:From /Users/kevinandersson/opt/miniconda3/envs/Physics-env/lib/python3.7/site-packages/tensorflow/python/ops/math_ops.py:3066: to_int32 (from tensorflow.python.ops.math_ops) is deprecated and will be removed in a future version.\n",
      "Instructions for updating:\n",
      "Use tf.cast instead.\n"
     ]
    }
   ],
   "source": [
    "history = model.fit(x=X,\n",
    "                    y=y,\n",
    "                    epochs=500,\n",
    "                    batch_size=32,\n",
    "                    validation_split=0.7,\n",
    "                    verbose=0)"
   ]
  },
  {
   "cell_type": "code",
   "execution_count": 16,
   "metadata": {},
   "outputs": [
    {
     "name": "stdout",
     "output_type": "stream",
     "text": [
      "dict_keys(['loss', 'mean_absolute_error', 'val_loss', 'val_mean_absolute_error'])\n"
     ]
    },
    {
     "data": {
      "image/png": "[encoded data removed]",
      "text/plain": [
       "<Figure size 864x432 with 2 Axes>"
      ]
     },
     "metadata": {
      "needs_background": "light"
     },
     "output_type": "display_data"
    },
    {
     "name": "stdout",
     "output_type": "stream",
     "text": [
      "0.0146309305\n"
     ]
    }
   ],
   "source": [
    "# Plot training history\n",
    "mae_history = history.history\n",
    "print(mae_history.keys())\n",
    "key = 'mean_absolute_error'\n",
    "epochs = range(1, len(mae_history[key])+1)\n",
    "\n",
    "fig, axs = plt.subplots(1, 2, figsize=(12,6))\n",
    "\n",
    "axs[0].plot(epochs, mae_history['val_loss'], label='Val loss')\n",
    "axs[0].plot(epochs, mae_history['loss'], label='train loss')\n",
    "axs[0].set_xlabel('Epochs')\n",
    "axs[0].set_ylabel('Loss, MSE')\n",
    "axs[0].legend(loc='best')\n",
    "axs[0].set_yscale('log')\n",
    "\n",
    "axs[1].plot(epochs, mae_history['val_'+key], label='Val mae')\n",
    "axs[1].plot(epochs, mae_history[key], label='train mae')\n",
    "axs[1].set_xlabel('Epochs')\n",
    "axs[1].set_ylabel('MAE')\n",
    "axs[1].legend(loc='best')\n",
    "axs[1].set_yscale('log')\n",
    "plt.show()\n",
    "\n",
    "print(mae_history['val_'+key][-1])"
   ]
  },
  {
   "cell_type": "markdown",
   "metadata": {},
   "source": [
    "## Task3"
   ]
  },
  {
   "cell_type": "code",
   "execution_count": 228,
   "metadata": {},
   "outputs": [],
   "source": [
    "def kernel(y, y_obs, h = 0.1, statistic = \"KL\"):\n",
    "    if statistic == \"KL\":\n",
    "        entrop = entropy(pk = y, qk = y_obs)\n",
    "    \n",
    "    x = entrop/h\n",
    "    sigma = 1/np.sqrt(2*np.pi) # choose the \n",
    "    return np.exp(-x**2/(2*sigma**2))/np.sqrt(2*np.pi*sigma**2)\n",
    "\n",
    "\n",
    "nData = 100\n",
    "    \n",
    "y,labels = gen_data(nData)\n",
    "\n",
    "theta = model.predict(y)\n",
    "error = theta - labels\n",
    "\n",
    "alpha_std = np.std(error[:,0])\n",
    "s_std = np.std(error[:,1])\n",
    "\n",
    "\n",
    "y_obs,_ = gen_data(nData, alpha = 0.2)"
   ]
  },
  {
   "cell_type": "code",
   "execution_count": 232,
   "metadata": {},
   "outputs": [
    {
     "data": {
      "application/vnd.jupyter.widget-view+json": {
       "model_id": "dc25ec1d8ac34b079519b2d3b9a123f1",
       "version_major": 2,
       "version_minor": 0
      },
      "text/plain": [
       "HBox(children=(FloatProgress(value=1.0, bar_style='info', max=1.0), HTML(value='')))"
      ]
     },
     "metadata": {},
     "output_type": "display_data"
    },
    {
     "name": "stdout",
     "output_type": "stream",
     "text": [
      "--- 0.021335840225219727 seconds ---\n",
      "--- 0.021790027618408203 seconds ---\n",
      "--- 0.015987157821655273 seconds ---\n",
      "--- 0.01641392707824707 seconds ---\n",
      "--- 0.014150857925415039 seconds ---\n",
      "--- 0.014518022537231445 seconds ---\n",
      "--- 0.014519929885864258 seconds ---\n",
      "--- 0.014991044998168945 seconds ---\n",
      "--- 0.015310049057006836 seconds ---\n",
      "--- 0.015700817108154297 seconds ---\n",
      "--- 0.014822006225585938 seconds ---\n",
      "--- 0.0150909423828125 seconds ---\n",
      "--- 0.010867118835449219 seconds ---\n",
      "--- 0.01112675666809082 seconds ---\n",
      "--- 0.011028051376342773 seconds ---\n",
      "--- 0.011237859725952148 seconds ---\n",
      "--- 0.013168096542358398 seconds ---\n",
      "--- 0.013389110565185547 seconds ---\n",
      "--- 0.01050424575805664 seconds ---\n",
      "--- 0.010733842849731445 seconds ---\n",
      "--- 0.010680675506591797 seconds ---\n",
      "--- 0.01090097427368164 seconds ---\n",
      "--- 0.01300191879272461 seconds ---\n",
      "--- 0.013356208801269531 seconds ---\n",
      "--- 0.011013984680175781 seconds ---\n",
      "--- 0.011252880096435547 seconds ---\n",
      "--- 0.01055288314819336 seconds ---\n",
      "--- 0.010802984237670898 seconds ---\n",
      "--- 0.013631105422973633 seconds ---\n",
      "--- 0.01388692855834961 seconds ---\n",
      "--- 0.012864112854003906 seconds ---\n",
      "--- 0.013245820999145508 seconds ---\n",
      "--- 0.012959957122802734 seconds ---\n",
      "--- 0.013191938400268555 seconds ---\n",
      "--- 0.010601997375488281 seconds ---\n",
      "--- 0.010992765426635742 seconds ---\n",
      "--- 0.012040138244628906 seconds ---\n",
      "--- 0.012397050857543945 seconds ---\n",
      "--- 0.01124715805053711 seconds ---\n",
      "--- 0.011672019958496094 seconds ---\n",
      "--- 0.011857032775878906 seconds ---\n",
      "--- 0.012077093124389648 seconds ---\n",
      "--- 0.012057781219482422 seconds ---\n",
      "--- 0.012278079986572266 seconds ---\n",
      "--- 0.010180234909057617 seconds ---\n",
      "--- 0.010458707809448242 seconds ---\n",
      "--- 0.012411832809448242 seconds ---\n",
      "--- 0.012739181518554688 seconds ---\n",
      "--- 0.010551691055297852 seconds ---\n",
      "--- 0.010804176330566406 seconds ---\n",
      "--- 0.010682106018066406 seconds ---\n",
      "--- 0.010926961898803711 seconds ---\n",
      "--- 0.013290882110595703 seconds ---\n",
      "--- 0.013525009155273438 seconds ---\n",
      "--- 0.011434078216552734 seconds ---\n",
      "--- 0.011708974838256836 seconds ---\n",
      "--- 0.011313915252685547 seconds ---\n",
      "--- 0.011666059494018555 seconds ---\n",
      "--- 0.012398958206176758 seconds ---\n",
      "--- 0.01264810562133789 seconds ---\n",
      "--- 0.012978076934814453 seconds ---\n",
      "--- 0.013312101364135742 seconds ---\n",
      "--- 0.01431584358215332 seconds ---\n",
      "--- 0.014665842056274414 seconds ---\n",
      "--- 0.011075019836425781 seconds ---\n",
      "--- 0.01130819320678711 seconds ---\n",
      "--- 0.013035058975219727 seconds ---\n",
      "--- 0.013361215591430664 seconds ---\n",
      "--- 0.011452198028564453 seconds ---\n",
      "--- 0.011680126190185547 seconds ---\n",
      "--- 0.012050151824951172 seconds ---\n",
      "--- 0.012274026870727539 seconds ---\n",
      "--- 0.01139378547668457 seconds ---\n",
      "--- 0.011640071868896484 seconds ---\n",
      "--- 0.010390043258666992 seconds ---\n",
      "--- 0.01064610481262207 seconds ---\n",
      "--- 0.012230157852172852 seconds ---\n",
      "--- 0.012621879577636719 seconds ---\n",
      "--- 0.010565042495727539 seconds ---\n",
      "--- 0.010874032974243164 seconds ---\n",
      "--- 0.01116490364074707 seconds ---\n",
      "--- 0.011388778686523438 seconds ---\n",
      "--- 0.012957096099853516 seconds ---\n",
      "--- 0.013303041458129883 seconds ---\n",
      "--- 0.010643959045410156 seconds ---\n",
      "--- 0.01091909408569336 seconds ---\n",
      "--- 0.011383056640625 seconds ---\n",
      "--- 0.011691570281982422 seconds ---\n",
      "--- 0.012046098709106445 seconds ---\n",
      "--- 0.012341022491455078 seconds ---\n",
      "--- 0.012766122817993164 seconds ---\n",
      "--- 0.01306295394897461 seconds ---\n",
      "--- 0.010394096374511719 seconds ---\n",
      "--- 0.01064610481262207 seconds ---\n",
      "--- 0.010421991348266602 seconds ---\n",
      "--- 0.010648965835571289 seconds ---\n",
      "--- 0.01189112663269043 seconds ---\n",
      "--- 0.012254953384399414 seconds ---\n",
      "--- 0.012680768966674805 seconds ---\n",
      "--- 0.012985944747924805 seconds ---\n",
      "--- 0.010896921157836914 seconds ---\n",
      "--- 0.01113581657409668 seconds ---\n",
      "--- 0.011115074157714844 seconds ---\n",
      "--- 0.011343002319335938 seconds ---\n",
      "--- 0.010564088821411133 seconds ---\n",
      "--- 0.010931015014648438 seconds ---\n",
      "--- 0.010837078094482422 seconds ---\n",
      "--- 0.011071920394897461 seconds ---\n",
      "--- 0.010567188262939453 seconds ---\n",
      "--- 0.010792970657348633 seconds ---\n",
      "--- 0.011458873748779297 seconds ---\n",
      "--- 0.011767148971557617 seconds ---\n",
      "--- 0.01080322265625 seconds ---\n",
      "--- 0.011117696762084961 seconds ---\n",
      "--- 0.012749195098876953 seconds ---\n",
      "--- 0.013104915618896484 seconds ---\n",
      "--- 0.011600017547607422 seconds ---\n",
      "--- 0.011887073516845703 seconds ---\n",
      "--- 0.012492895126342773 seconds ---\n",
      "--- 0.01316690444946289 seconds ---\n",
      "--- 0.013705968856811523 seconds ---\n",
      "--- 0.013952016830444336 seconds ---\n",
      "--- 0.014606714248657227 seconds ---\n",
      "--- 0.014856100082397461 seconds ---\n",
      "--- 0.01322793960571289 seconds ---\n",
      "--- 0.013509750366210938 seconds ---\n",
      "--- 0.011639118194580078 seconds ---\n",
      "--- 0.011868000030517578 seconds ---\n",
      "--- 0.013167142868041992 seconds ---\n",
      "--- 0.01347208023071289 seconds ---\n",
      "--- 0.012274980545043945 seconds ---\n",
      "--- 0.012501716613769531 seconds ---\n",
      "--- 0.011723995208740234 seconds ---\n",
      "--- 0.011952877044677734 seconds ---\n",
      "--- 0.012498140335083008 seconds ---\n",
      "--- 0.012732267379760742 seconds ---\n",
      "--- 0.011625289916992188 seconds ---\n",
      "--- 0.01198887825012207 seconds ---\n",
      "--- 0.010109901428222656 seconds ---\n",
      "--- 0.010352134704589844 seconds ---\n",
      "--- 0.011126041412353516 seconds ---\n",
      "--- 0.011348962783813477 seconds ---\n",
      "--- 0.011754035949707031 seconds ---\n",
      "--- 0.012096881866455078 seconds ---\n",
      "--- 0.012706756591796875 seconds ---\n",
      "--- 0.013083934783935547 seconds ---\n",
      "--- 0.010220050811767578 seconds ---\n",
      "--- 0.01066899299621582 seconds ---\n",
      "--- 0.012101888656616211 seconds ---\n",
      "--- 0.012471199035644531 seconds ---\n",
      "--- 0.012216806411743164 seconds ---\n",
      "--- 0.012513160705566406 seconds ---\n",
      "--- 0.012599945068359375 seconds ---\n",
      "--- 0.012830972671508789 seconds ---\n",
      "--- 0.011952877044677734 seconds ---\n",
      "--- 0.01218104362487793 seconds ---\n",
      "--- 0.012718915939331055 seconds ---\n",
      "--- 0.013442039489746094 seconds ---\n",
      "--- 0.011182069778442383 seconds ---\n",
      "--- 0.011410236358642578 seconds ---\n",
      "--- 0.011720895767211914 seconds ---\n",
      "--- 0.01194906234741211 seconds ---\n",
      "--- 0.011409997940063477 seconds ---\n",
      "--- 0.01176595687866211 seconds ---\n",
      "--- 0.012565135955810547 seconds ---\n",
      "--- 0.012827873229980469 seconds ---\n",
      "--- 0.012347698211669922 seconds ---\n",
      "--- 0.012755393981933594 seconds ---\n",
      "--- 0.012330055236816406 seconds ---\n",
      "--- 0.01256108283996582 seconds ---\n",
      "--- 0.012160062789916992 seconds ---\n",
      "--- 0.012403011322021484 seconds ---\n",
      "--- 0.013768911361694336 seconds ---\n",
      "--- 0.014034748077392578 seconds ---\n",
      "--- 0.01346731185913086 seconds ---\n",
      "--- 0.013701915740966797 seconds ---\n",
      "--- 0.01317906379699707 seconds ---\n",
      "--- 0.013545036315917969 seconds ---\n",
      "--- 0.012035131454467773 seconds ---\n",
      "--- 0.012274026870727539 seconds ---\n",
      "--- 0.01116180419921875 seconds ---\n",
      "--- 0.011474132537841797 seconds ---\n",
      "--- 0.010415077209472656 seconds ---\n",
      "--- 0.010626792907714844 seconds ---\n",
      "--- 0.010800838470458984 seconds ---\n",
      "--- 0.011035919189453125 seconds ---\n",
      "--- 0.013359785079956055 seconds ---\n",
      "--- 0.013685941696166992 seconds ---\n",
      "--- 0.011282920837402344 seconds ---\n",
      "--- 0.01150965690612793 seconds ---\n",
      "--- 0.013934135437011719 seconds ---\n",
      "--- 0.014163017272949219 seconds ---\n",
      "--- 0.01131892204284668 seconds ---\n",
      "--- 0.011705160140991211 seconds ---\n",
      "--- 0.011853218078613281 seconds ---\n",
      "--- 0.012107133865356445 seconds ---\n",
      "--- 0.011047840118408203 seconds ---\n",
      "--- 0.011267900466918945 seconds ---\n",
      "--- 0.012512922286987305 seconds ---\n",
      "--- 0.012804985046386719 seconds ---\n",
      "\n",
      "(18,)\n",
      "0.3011944484476466 0.058563472997173745\n",
      "0.0\n"
     ]
    }
   ],
   "source": [
    "def ABC_MCMC(y_obs, gen_alpha = \"prior\", max_iter = 50, s_std = 0.01, alpha_std = 0.01):\n",
    "    #gen_alpha = \"NN\"\n",
    "    alpha = []\n",
    "    for i, y_ob in tqdm(enumerate(y_obs)):\n",
    "\n",
    "        theta_m = model.predict(y_ob.reshape(1,32))[0]\n",
    "        s_m = theta_m[1]\n",
    "        alpha_m = theta_m[0]\n",
    "        \n",
    "    \n",
    "        for j in range(max_iter):\n",
    "            start_time = time.time()\n",
    "            s_star = np.random.normal(loc = s_m, scale  = s_std)\n",
    "            \n",
    "            if gen_alpha == \"NN\":\n",
    "                alpha_star = np.random.normal(loc = alpha_m, scale  = alpha_std)\n",
    "                y_star = simulator(alpha_star, s_star)\n",
    "                kern = kernel(y_star, y_ob)\n",
    "\n",
    "                norm = sc.stats.norm(loc=alpha_m, scale = alpha_std)\n",
    "                M1 = norm.pdf(0)\n",
    "                M2 = norm.pdf(0.5)\n",
    "                M = 2*max((1/M1,1/M2))*1\n",
    "                M=1\n",
    "\n",
    "                p_acc = kern*2/(M*norm.pdf(alpha_star))\n",
    "                #print(p_acc, M, M1, M2)\n",
    "                \n",
    "            else:\n",
    "                alpha_star = np.random.rand()*0.5\n",
    "                \n",
    "                start_time2 = time.time()\n",
    "                y_star = simulator(alpha_star, s_star)\n",
    "                print(\"--- %s seconds ---\" % (time.time() - start_time2))\n",
    "                \n",
    "                kern = kernel(y_star, y_ob)\n",
    "                p_acc = kern\n",
    "            \n",
    "            if(np.random.rand() < p_acc):\n",
    "                alpha.append(alpha_star)\n",
    "                #break # ???\n",
    "            print(\"--- %s seconds ---\" % (time.time() - start_time))\n",
    "            break\n",
    "    return np.array(alpha) \n",
    "\n",
    "alpha = ABC_MCMC(y_obs, s_std = s_std)\n",
    "print(alpha.shape)\n",
    "print(alpha_star, s_star)\n",
    "\n",
    "print(p_acc)"
   ]
  },
  {
   "cell_type": "code",
   "execution_count": 230,
   "metadata": {
    "scrolled": false
   },
   "outputs": [
    {
     "name": "stdout",
     "output_type": "stream",
     "text": [
      "[0.12983388 0.41244621]\n"
     ]
    },
    {
     "name": "stderr",
     "output_type": "stream",
     "text": [
      "/Users/kevinandersson/opt/miniconda3/envs/Physics-env/lib/python3.7/site-packages/arviz/stats/stats.py:338: UserWarning: hpd will be deprecated Please replace hdi\n",
      "  (\"hpd will be deprecated \" \"Please replace hdi\"),\n"
     ]
    },
    {
     "data": {
      "text/plain": [
       "<matplotlib.legend.Legend at 0x157246f50>"
      ]
     },
     "execution_count": 230,
     "metadata": {},
     "output_type": "execute_result"
    },
    {
     "data": {
      "image/png": "[encoded data removed]",
      "text/plain": [
       "<Figure size 576x432 with 1 Axes>"
      ]
     },
     "metadata": {
      "needs_background": "light"
     },
     "output_type": "display_data"
    }
   ],
   "source": [
    "\n",
    "\n",
    "\n",
    "fig,ax = plt.subplots(figsize = (8,6))\n",
    "ax.hist(alpha ,bins = 21, density = True)\n",
    "\n",
    "hdi = pymc3.stats.hpd(alpha, 0.90)\n",
    "print(hdi)\n",
    "ymax = ax.get_ylim()[1]\n",
    "ax.plot(hdi, [ymax/10, ymax/10], c='k', label='90% HPD')\n",
    "ax.axvline(np.mean(alpha), c='r', label=r'$\\overline{w}$'+f'={np.mean(alpha):.4f}')\n",
    "ax.text(hdi[0], ymax/9, s=f'{hdi[0]:.2f}')\n",
    "ax.text(hdi[1], ymax/9, s=f'{hdi[1]:.2f}')\n",
    "plt.tight_layout()\n",
    "ax.set_xlabel(r'$w$')\n",
    "ax.legend(loc='best')\n",
    "#plt.savefig('figures_task2/w_posterior.png')"
   ]
  }
 ],
 "metadata": {
  "kernelspec": {
   "display_name": "Python 3",
   "language": "python",
   "name": "python3"
  },
  "language_info": {
   "codemirror_mode": {
    "name": "ipython",
    "version": 3
   },
   "file_extension": ".py",
   "mimetype": "text/x-python",
   "name": "python",
   "nbconvert_exporter": "python",
   "pygments_lexer": "ipython3",
   "version": "3.7.6"
  }
 },
 "nbformat": 4,
 "nbformat_minor": 4
}
